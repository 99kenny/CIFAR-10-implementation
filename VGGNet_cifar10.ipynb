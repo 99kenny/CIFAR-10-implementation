{
  "cells": [
    {
      "cell_type": "markdown",
      "metadata": {
        "id": "view-in-github",
        "colab_type": "text"
      },
      "source": [
        "<a href=\"https://colab.research.google.com/github/99kenny/Deep-Learning/blob/main/VGGNet_cifar10.ipynb\" target=\"_parent\"><img src=\"https://colab.research.google.com/assets/colab-badge.svg\" alt=\"Open In Colab\"/></a>"
      ]
    },
    {
      "cell_type": "code",
      "execution_count": null,
      "metadata": {
        "id": "cAcJ6uS2k_fI"
      },
      "outputs": [],
      "source": [
        "# from google.colab import drive\n",
        "# drive.mount('/content/drive')"
      ]
    },
    {
      "cell_type": "code",
      "source": [
        "from google.colab import drive\n",
        "drive.mount('/content/drive')"
      ],
      "metadata": {
        "id": "dXBbYOliV9SD",
        "outputId": "413ace05-0c96-4730-94e0-305f8e316685",
        "colab": {
          "base_uri": "https://localhost:8080/"
        }
      },
      "execution_count": null,
      "outputs": [
        {
          "output_type": "stream",
          "name": "stdout",
          "text": [
            "Mounted at /content/drive\n"
          ]
        }
      ]
    },
    {
      "cell_type": "code",
      "execution_count": null,
      "metadata": {
        "id": "MTKIDNEtuQV6",
        "colab": {
          "base_uri": "https://localhost:8080/"
        },
        "outputId": "1f28c86b-4018-4158-d7cd-5903b9ee6395"
      },
      "outputs": [
        {
          "output_type": "stream",
          "name": "stdout",
          "text": [
            "/bin/bash: line 0: cd: /content/drive/MyDrive/Colab Notebooks/DeepLearningImplementation/Deep-Learning: No such file or directory\n"
          ]
        }
      ],
      "source": [
        "!cd /content/drive/MyDrive/\"Colab Notebooks\"/DeepLearningImplementation/Deep-Learning\n",
        "\n",
        "!git config --global user.email 'helloiamkenny@gmail.com'\n",
        "!git config --global user.name '99kenny'"
      ]
    },
    {
      "cell_type": "markdown",
      "metadata": {
        "id": "JbjVS9PLu8YF"
      },
      "source": [
        "# VGGNet\n",
        "- dataset : CIFAR-10"
      ]
    },
    {
      "cell_type": "code",
      "execution_count": null,
      "metadata": {
        "id": "JPhOkPpAxvQd"
      },
      "outputs": [],
      "source": [
        "import tensorflow as tf\n",
        "import numpy as np\n",
        "import matplotlib.pyplot as plt\n",
        "from keras.layers import Flatten, Dense, Input, Conv2D, MaxPooling2D, Dropout, BatchNormalization\n",
        "from keras.models import Model\n",
        "from keras import optimizers, regularizers, utils\n",
        "from keras.preprocessing.image import ImageDataGenerator\n",
        "from keras import utils\n",
        "from tensorflow.keras.utils import to_categorical"
      ]
    },
    {
      "cell_type": "code",
      "execution_count": null,
      "metadata": {
        "id": "u0qyGSBbu8Ab",
        "colab": {
          "base_uri": "https://localhost:8080/"
        },
        "outputId": "fda66a12-fe47-4c53-dc86-1603b67052a8"
      },
      "outputs": [
        {
          "output_type": "stream",
          "name": "stdout",
          "text": [
            "Downloading data from https://www.cs.toronto.edu/~kriz/cifar-10-python.tar.gz\n",
            "170498071/170498071 [==============================] - 6s 0us/step\n"
          ]
        }
      ],
      "source": [
        "# download data\n",
        "cifar10 = tf.keras.datasets.cifar10 \n",
        "(train_images, train_labels), (test_images, test_labels) = cifar10.load_data()\n",
        "class_names = ['airplane', 'automobile', 'bird', 'cat', 'deer', 'dog','frog', 'horse', 'ship', 'truck']"
      ]
    },
    {
      "cell_type": "code",
      "source": [
        "# fig = plt.figure(figsize=(20,20))\n",
        "# axes = []\n",
        "# for index, img in enumerate(train_images):\n",
        "#   ax = fig.add_subplot(5,5,index+1)\n",
        "#   ax.set_title(class_names[train_labels[index][0]])\n",
        "#   ax.imshow(img)\n",
        "#   axes.append(ax)\n",
        "#   if (index+1) % 25 == 0:\n",
        "#     break\n",
        "# plt.show()"
      ],
      "metadata": {
        "id": "qDjClhxG2ayi"
      },
      "execution_count": null,
      "outputs": []
    },
    {
      "cell_type": "code",
      "execution_count": null,
      "metadata": {
        "colab": {
          "base_uri": "https://localhost:8080/"
        },
        "id": "03gRioW2xIhf",
        "outputId": "d1bb2a30-5144-4e7a-cd7b-e56ca5f790cd"
      },
      "outputs": [
        {
          "output_type": "stream",
          "name": "stdout",
          "text": [
            "(5000, 32, 32, 3)\n",
            "(5000, 10)\n"
          ]
        }
      ],
      "source": [
        "train_images = train_images - np.mean(train_images, axis=(0, 1, 2))\n",
        "test_images = test_images - np.mean(test_images, axis=(0, 1, 2))\n",
        "\n",
        "train_labels = to_categorical(train_labels, num_classes=10)\n",
        "test_labels = to_categorical(test_labels, num_classes=10)\n",
        "\n",
        "# split data -> validation, test\n",
        "valid_images, valid_labels = test_images[0:5000,:], test_labels[0:5000,:]\n",
        "test_images, test_labels = test_images[5000:,:], test_labels[5000:,:]\n",
        "\n",
        "print(valid_images.shape)\n",
        "print(valid_labels.shape)"
      ]
    },
    {
      "cell_type": "code",
      "execution_count": null,
      "metadata": {
        "id": "GyrGCjfAqU92"
      },
      "outputs": [],
      "source": [
        "datagen = ImageDataGenerator(\n",
        "            featurewise_center=False,  # set input mean to 0 over the dataset\n",
        "            samplewise_center=False,  # set each sample mean to 0\n",
        "            featurewise_std_normalization=False,  # divide inputs by std of the dataset\n",
        "            samplewise_std_normalization=False,  # divide each input by its std\n",
        "            zca_whitening=False,  # apply ZCA whitening\n",
        "            rotation_range=0,  # randomly rotate images in the range (degrees, 0 to 180)\n",
        "            width_shift_range=0,  # randomly shift images horizontally (fraction of total width)\n",
        "            height_shift_range=0,  # randomly shift images vertically (fraction of total height)\n",
        "            horizontal_flip=True,  # randomly flip images\n",
        "            vertical_flip=False,\n",
        "            )  # randomly flip images\n",
        "\n",
        "datagen.fit(train_images)"
      ]
    },
    {
      "cell_type": "code",
      "execution_count": null,
      "metadata": {
        "id": "9D4HQ9qt3I9T"
      },
      "outputs": [],
      "source": [
        "\n",
        "weight_decay = 0.0005\n",
        "img_rows, img_cols = 32, 32\n",
        "img_channels = 3 \n",
        "\n",
        "img_dim = (img_rows, img_cols, img_channels)  \n",
        "img_input = Input(shape=img_dim)\n",
        "\n",
        "def vgg_model():\n",
        "  x = Conv2D(64,(3,3),padding='same',activation = 'relu',kernel_regularizer=regularizers.l2(weight_decay))(img_input) \n",
        "  x = Conv2D(64,(3,3),padding='same',activation = 'relu',kernel_regularizer=regularizers.l2(weight_decay))(x) \n",
        "  x = BatchNormalization()(x)\n",
        "  x = MaxPooling2D((2,2),strides=(2,2))(x) \n",
        "  x = Dropout(0.4)(x)\n",
        "\n",
        "\n",
        "  x = Conv2D(128,(3,3),padding='same',activation = 'relu',kernel_regularizer=regularizers.l2(weight_decay))(x)\n",
        "  x = Conv2D(128,(3,3),padding='same',activation = 'relu',kernel_regularizer=regularizers.l2(weight_decay))(x) \n",
        "  x = BatchNormalization()(x)\n",
        "  x = MaxPooling2D((2,2),strides=(2,2))(x) \n",
        "  x = Dropout(0.4)(x)\n",
        "\n",
        "  x = Conv2D(256,(3,3),padding='same',activation = 'relu',kernel_regularizer=regularizers.l2(weight_decay))(x) \n",
        "  x = Conv2D(256,(3,3),padding='same',activation = 'relu',kernel_regularizer=regularizers.l2(weight_decay))(x) \n",
        "  x = Conv2D(256,(3,3),padding='same',activation = 'relu',kernel_regularizer=regularizers.l2(weight_decay))(x) \n",
        "  x = Conv2D(256,(3,3),padding='same',activation = 'relu',kernel_regularizer=regularizers.l2(weight_decay))(x)\n",
        "  x = BatchNormalization()(x) \n",
        "  x = MaxPooling2D((2,2),strides=(2,2))(x) \n",
        "  x = Dropout(0.4)(x)\n",
        "\n",
        "  x = Conv2D(512,(3,3),padding='same',activation = 'relu',kernel_regularizer=regularizers.l2(weight_decay))(x)\n",
        "  x = Conv2D(512,(3,3),padding='same',activation = 'relu',kernel_regularizer=regularizers.l2(weight_decay))(x) \n",
        "  x = Conv2D(512,(3,3),padding='same',activation = 'relu',kernel_regularizer=regularizers.l2(weight_decay))(x)\n",
        "  x = Conv2D(512,(3,3),padding='same',activation = 'relu',kernel_regularizer=regularizers.l2(weight_decay))(x)\n",
        "  x = BatchNormalization()(x) \n",
        "  x = MaxPooling2D((2,2),strides=(2,2))(x) \n",
        "  x = Dropout(0.4)(x)\n",
        "\n",
        "  x = Conv2D(512,(3,3),padding='same',activation = 'relu',kernel_regularizer=regularizers.l2(weight_decay))(x) \n",
        "  x = Conv2D(512,(3,3),padding='same',activation = 'relu',kernel_regularizer=regularizers.l2(weight_decay))(x)\n",
        "  x = Conv2D(512,(3,3),padding='same',activation = 'relu',kernel_regularizer=regularizers.l2(weight_decay))(x)\n",
        "  x = Conv2D(512,(3,3),padding='same',activation = 'relu',kernel_regularizer=regularizers.l2(weight_decay))(x)\n",
        "  x = BatchNormalization()(x) \n",
        "  x = MaxPooling2D((2,2),strides=(2,2))(x)\n",
        "\n",
        "  x = Flatten()(x)\n",
        "  x = Dense(1024, activation = 'relu')(x)\n",
        "  x = Dropout(0.5)(x)\n",
        "  x = Dense(1024, activation = 'relu')(x)\n",
        "  x = Dropout(0.5)(x)\n",
        "  x = Dense(10, activation = 'softmax')(x)\n",
        "  return x\n",
        "\n",
        "\n",
        "model = Model(inputs=img_input, outputs = vgg_model())\n",
        "models = [model]"
      ]
    },
    {
      "cell_type": "markdown",
      "metadata": {
        "id": "wmKl7d0hl26Y"
      },
      "source": [
        "# Train"
      ]
    },
    {
      "cell_type": "code",
      "execution_count": null,
      "metadata": {
        "colab": {
          "base_uri": "https://localhost:8080/"
        },
        "id": "8keevh1l95ZF",
        "outputId": "8c9e46b5-ff55-4319-d13e-79991c824acf"
      },
      "outputs": [
        {
          "output_type": "stream",
          "name": "stdout",
          "text": [
            "Epoch 1/100\n",
            "391/391 [==============================] - 43s 82ms/step - loss: 3.6624 - accuracy: 0.2065 - val_loss: 2.6989 - val_accuracy: 0.2386 - lr: 0.0010\n",
            "Epoch 2/100\n",
            "391/391 [==============================] - 30s 77ms/step - loss: 2.3459 - accuracy: 0.2633 - val_loss: 2.1335 - val_accuracy: 0.2646 - lr: 0.0010\n",
            "Epoch 3/100\n",
            "391/391 [==============================] - 30s 78ms/step - loss: 1.9472 - accuracy: 0.3275 - val_loss: 2.0244 - val_accuracy: 0.2572 - lr: 0.0010\n",
            "Epoch 4/100\n",
            "391/391 [==============================] - 31s 78ms/step - loss: 1.7306 - accuracy: 0.3945 - val_loss: 1.9904 - val_accuracy: 0.3520 - lr: 0.0010\n",
            "Epoch 5/100\n",
            "391/391 [==============================] - 31s 79ms/step - loss: 1.6229 - accuracy: 0.4406 - val_loss: 1.6601 - val_accuracy: 0.4450 - lr: 0.0010\n",
            "Epoch 6/100\n",
            "391/391 [==============================] - 31s 79ms/step - loss: 1.5487 - accuracy: 0.4827 - val_loss: 1.5555 - val_accuracy: 0.4930 - lr: 0.0010\n",
            "Epoch 7/100\n",
            "391/391 [==============================] - 32s 81ms/step - loss: 1.5157 - accuracy: 0.5104 - val_loss: 1.7121 - val_accuracy: 0.4288 - lr: 0.0010\n",
            "Epoch 8/100\n",
            "391/391 [==============================] - 31s 80ms/step - loss: 1.4516 - accuracy: 0.5364 - val_loss: 1.4615 - val_accuracy: 0.5360 - lr: 0.0010\n",
            "Epoch 9/100\n",
            "391/391 [==============================] - 31s 80ms/step - loss: 1.3862 - accuracy: 0.5692 - val_loss: 1.4762 - val_accuracy: 0.5248 - lr: 0.0010\n",
            "Epoch 10/100\n",
            "391/391 [==============================] - 31s 80ms/step - loss: 1.3329 - accuracy: 0.6034 - val_loss: 1.3435 - val_accuracy: 0.6090 - lr: 0.0010\n",
            "Epoch 11/100\n",
            "391/391 [==============================] - 32s 82ms/step - loss: 1.2892 - accuracy: 0.6454 - val_loss: 1.4232 - val_accuracy: 0.5968 - lr: 0.0010\n",
            "Epoch 12/100\n",
            "391/391 [==============================] - 32s 83ms/step - loss: 1.2364 - accuracy: 0.6771 - val_loss: 1.1914 - val_accuracy: 0.6892 - lr: 0.0010\n",
            "Epoch 13/100\n",
            "391/391 [==============================] - 31s 79ms/step - loss: 1.1851 - accuracy: 0.6988 - val_loss: 1.0904 - val_accuracy: 0.7278 - lr: 0.0010\n",
            "Epoch 14/100\n",
            "391/391 [==============================] - 31s 79ms/step - loss: 1.1607 - accuracy: 0.7131 - val_loss: 1.2204 - val_accuracy: 0.6792 - lr: 0.0010\n",
            "Epoch 15/100\n",
            "391/391 [==============================] - 31s 79ms/step - loss: 1.1231 - accuracy: 0.7297 - val_loss: 1.0731 - val_accuracy: 0.7410 - lr: 0.0010\n",
            "Epoch 16/100\n",
            "391/391 [==============================] - 31s 79ms/step - loss: 1.0926 - accuracy: 0.7402 - val_loss: 1.0559 - val_accuracy: 0.7486 - lr: 0.0010\n",
            "Epoch 17/100\n",
            "391/391 [==============================] - 31s 79ms/step - loss: 1.0699 - accuracy: 0.7489 - val_loss: 1.1582 - val_accuracy: 0.7328 - lr: 0.0010\n",
            "Epoch 18/100\n",
            "391/391 [==============================] - 31s 79ms/step - loss: 1.0387 - accuracy: 0.7586 - val_loss: 1.0049 - val_accuracy: 0.7682 - lr: 0.0010\n",
            "Epoch 19/100\n",
            "391/391 [==============================] - 31s 79ms/step - loss: 1.0210 - accuracy: 0.7689 - val_loss: 1.0048 - val_accuracy: 0.7754 - lr: 0.0010\n",
            "Epoch 20/100\n",
            "391/391 [==============================] - 31s 79ms/step - loss: 0.9975 - accuracy: 0.7738 - val_loss: 1.0245 - val_accuracy: 0.7728 - lr: 0.0010\n",
            "Epoch 21/100\n",
            "391/391 [==============================] - ETA: 0s - loss: 0.9913 - accuracy: 0.7762\n",
            "Epoch 21: ReduceLROnPlateau reducing learning rate to 0.00010000000474974513.\n",
            "391/391 [==============================] - 31s 79ms/step - loss: 0.9913 - accuracy: 0.7762 - val_loss: 1.0471 - val_accuracy: 0.7560 - lr: 0.0010\n",
            "Epoch 22/100\n",
            "391/391 [==============================] - 31s 79ms/step - loss: 0.8573 - accuracy: 0.8195 - val_loss: 0.7972 - val_accuracy: 0.8352 - lr: 1.0000e-04\n",
            "Epoch 23/100\n",
            "391/391 [==============================] - 31s 79ms/step - loss: 0.8065 - accuracy: 0.8331 - val_loss: 0.7752 - val_accuracy: 0.8440 - lr: 1.0000e-04\n",
            "Epoch 24/100\n",
            "391/391 [==============================] - 31s 79ms/step - loss: 0.7750 - accuracy: 0.8375 - val_loss: 0.7647 - val_accuracy: 0.8450 - lr: 1.0000e-04\n",
            "Epoch 25/100\n",
            "391/391 [==============================] - 31s 79ms/step - loss: 0.7581 - accuracy: 0.8430 - val_loss: 0.7491 - val_accuracy: 0.8438 - lr: 1.0000e-04\n",
            "Epoch 26/100\n",
            "391/391 [==============================] - 31s 79ms/step - loss: 0.7409 - accuracy: 0.8450 - val_loss: 0.7282 - val_accuracy: 0.8512 - lr: 1.0000e-04\n",
            "Epoch 27/100\n",
            "391/391 [==============================] - 31s 79ms/step - loss: 0.7256 - accuracy: 0.8487 - val_loss: 0.7145 - val_accuracy: 0.8494 - lr: 1.0000e-04\n",
            "Epoch 28/100\n",
            "391/391 [==============================] - 31s 79ms/step - loss: 0.7098 - accuracy: 0.8525 - val_loss: 0.6952 - val_accuracy: 0.8584 - lr: 1.0000e-04\n",
            "Epoch 29/100\n",
            "391/391 [==============================] - 31s 79ms/step - loss: 0.6914 - accuracy: 0.8561 - val_loss: 0.6887 - val_accuracy: 0.8562 - lr: 1.0000e-04\n",
            "Epoch 30/100\n",
            "391/391 [==============================] - 31s 79ms/step - loss: 0.6857 - accuracy: 0.8575 - val_loss: 0.6894 - val_accuracy: 0.8578 - lr: 1.0000e-04\n",
            "Epoch 31/100\n",
            "391/391 [==============================] - 31s 79ms/step - loss: 0.6709 - accuracy: 0.8599 - val_loss: 0.7132 - val_accuracy: 0.8538 - lr: 1.0000e-04\n",
            "Epoch 32/100\n",
            "391/391 [==============================] - 31s 79ms/step - loss: 0.6594 - accuracy: 0.8623 - val_loss: 0.6733 - val_accuracy: 0.8612 - lr: 1.0000e-04\n",
            "Epoch 33/100\n",
            "391/391 [==============================] - 31s 79ms/step - loss: 0.6500 - accuracy: 0.8655 - val_loss: 0.6763 - val_accuracy: 0.8534 - lr: 1.0000e-04\n",
            "Epoch 34/100\n",
            "391/391 [==============================] - 31s 79ms/step - loss: 0.6422 - accuracy: 0.8643 - val_loss: 0.6531 - val_accuracy: 0.8664 - lr: 1.0000e-04\n",
            "Epoch 35/100\n",
            "391/391 [==============================] - 31s 79ms/step - loss: 0.6256 - accuracy: 0.8691 - val_loss: 0.6550 - val_accuracy: 0.8610 - lr: 1.0000e-04\n",
            "Epoch 36/100\n",
            "391/391 [==============================] - 31s 79ms/step - loss: 0.6209 - accuracy: 0.8679 - val_loss: 0.6356 - val_accuracy: 0.8672 - lr: 1.0000e-04\n",
            "Epoch 37/100\n",
            "391/391 [==============================] - 31s 79ms/step - loss: 0.6083 - accuracy: 0.8742 - val_loss: 0.6485 - val_accuracy: 0.8638 - lr: 1.0000e-04\n",
            "Epoch 38/100\n",
            "391/391 [==============================] - 31s 79ms/step - loss: 0.6058 - accuracy: 0.8732 - val_loss: 0.6317 - val_accuracy: 0.8666 - lr: 1.0000e-04\n",
            "Epoch 39/100\n",
            "391/391 [==============================] - 31s 79ms/step - loss: 0.5933 - accuracy: 0.8747 - val_loss: 0.6258 - val_accuracy: 0.8716 - lr: 1.0000e-04\n",
            "Epoch 40/100\n",
            "391/391 [==============================] - 31s 79ms/step - loss: 0.5861 - accuracy: 0.8764 - val_loss: 0.6235 - val_accuracy: 0.8690 - lr: 1.0000e-04\n",
            "Epoch 41/100\n",
            "391/391 [==============================] - 31s 79ms/step - loss: 0.5815 - accuracy: 0.8781 - val_loss: 0.6053 - val_accuracy: 0.8754 - lr: 1.0000e-04\n",
            "Epoch 42/100\n",
            "391/391 [==============================] - 31s 79ms/step - loss: 0.5751 - accuracy: 0.8790 - val_loss: 0.6088 - val_accuracy: 0.8708 - lr: 1.0000e-04\n",
            "Epoch 43/100\n",
            "391/391 [==============================] - 31s 79ms/step - loss: 0.5685 - accuracy: 0.8799 - val_loss: 0.6070 - val_accuracy: 0.8728 - lr: 1.0000e-04\n",
            "Epoch 44/100\n",
            "391/391 [==============================] - ETA: 0s - loss: 0.5594 - accuracy: 0.8825\n",
            "Epoch 44: ReduceLROnPlateau reducing learning rate to 1.0000000474974514e-05.\n",
            "391/391 [==============================] - 31s 79ms/step - loss: 0.5594 - accuracy: 0.8825 - val_loss: 0.6202 - val_accuracy: 0.8700 - lr: 1.0000e-04\n",
            "Epoch 45/100\n",
            "391/391 [==============================] - 32s 83ms/step - loss: 0.5394 - accuracy: 0.8890 - val_loss: 0.5889 - val_accuracy: 0.8760 - lr: 1.0000e-05\n",
            "Epoch 46/100\n",
            "391/391 [==============================] - 31s 80ms/step - loss: 0.5334 - accuracy: 0.8913 - val_loss: 0.5903 - val_accuracy: 0.8752 - lr: 1.0000e-05\n",
            "Epoch 47/100\n",
            "391/391 [==============================] - 32s 82ms/step - loss: 0.5308 - accuracy: 0.8910 - val_loss: 0.5887 - val_accuracy: 0.8772 - lr: 1.0000e-05\n",
            "Epoch 48/100\n",
            "391/391 [==============================] - 31s 79ms/step - loss: 0.5301 - accuracy: 0.8919 - val_loss: 0.5886 - val_accuracy: 0.8752 - lr: 1.0000e-05\n",
            "Epoch 49/100\n",
            "391/391 [==============================] - 32s 81ms/step - loss: 0.5278 - accuracy: 0.8914 - val_loss: 0.5872 - val_accuracy: 0.8772 - lr: 1.0000e-05\n",
            "Epoch 50/100\n",
            "391/391 [==============================] - 32s 82ms/step - loss: 0.5221 - accuracy: 0.8943 - val_loss: 0.5892 - val_accuracy: 0.8762 - lr: 1.0000e-05\n",
            "Epoch 51/100\n",
            "391/391 [==============================] - 31s 80ms/step - loss: 0.5245 - accuracy: 0.8920 - val_loss: 0.5869 - val_accuracy: 0.8764 - lr: 1.0000e-05\n",
            "Epoch 52/100\n",
            "391/391 [==============================] - 32s 82ms/step - loss: 0.5178 - accuracy: 0.8945 - val_loss: 0.5859 - val_accuracy: 0.8802 - lr: 1.0000e-05\n",
            "Epoch 53/100\n",
            "391/391 [==============================] - 32s 81ms/step - loss: 0.5235 - accuracy: 0.8932 - val_loss: 0.5865 - val_accuracy: 0.8758 - lr: 1.0000e-05\n",
            "Epoch 54/100\n",
            "391/391 [==============================] - 32s 82ms/step - loss: 0.5208 - accuracy: 0.8936 - val_loss: 0.5850 - val_accuracy: 0.8792 - lr: 1.0000e-05\n",
            "Epoch 55/100\n",
            "391/391 [==============================] - 33s 83ms/step - loss: 0.5148 - accuracy: 0.8951 - val_loss: 0.5834 - val_accuracy: 0.8790 - lr: 1.0000e-05\n",
            "Epoch 56/100\n",
            "391/391 [==============================] - 32s 81ms/step - loss: 0.5138 - accuracy: 0.8961 - val_loss: 0.5854 - val_accuracy: 0.8804 - lr: 1.0000e-05\n",
            "Epoch 57/100\n",
            "391/391 [==============================] - 31s 80ms/step - loss: 0.5151 - accuracy: 0.8950 - val_loss: 0.5830 - val_accuracy: 0.8806 - lr: 1.0000e-05\n",
            "Epoch 58/100\n",
            "391/391 [==============================] - 31s 79ms/step - loss: 0.5134 - accuracy: 0.8959 - val_loss: 0.5828 - val_accuracy: 0.8796 - lr: 1.0000e-05\n",
            "Epoch 59/100\n",
            "391/391 [==============================] - 32s 81ms/step - loss: 0.5130 - accuracy: 0.8956 - val_loss: 0.5811 - val_accuracy: 0.8802 - lr: 1.0000e-05\n",
            "Epoch 60/100\n",
            "391/391 [==============================] - 31s 80ms/step - loss: 0.5112 - accuracy: 0.8982 - val_loss: 0.5811 - val_accuracy: 0.8804 - lr: 1.0000e-05\n",
            "Epoch 61/100\n",
            "391/391 [==============================] - 31s 80ms/step - loss: 0.5125 - accuracy: 0.8944 - val_loss: 0.5836 - val_accuracy: 0.8802 - lr: 1.0000e-05\n",
            "Epoch 62/100\n",
            "391/391 [==============================] - ETA: 0s - loss: 0.5070 - accuracy: 0.8971\n",
            "Epoch 62: ReduceLROnPlateau reducing learning rate to 1e-05.\n",
            "391/391 [==============================] - 31s 79ms/step - loss: 0.5070 - accuracy: 0.8971 - val_loss: 0.5812 - val_accuracy: 0.8776 - lr: 1.0000e-05\n",
            "Epoch 63/100\n",
            "391/391 [==============================] - 31s 79ms/step - loss: 0.5083 - accuracy: 0.8966 - val_loss: 0.5789 - val_accuracy: 0.8796 - lr: 1.0000e-05\n",
            "Epoch 64/100\n",
            "391/391 [==============================] - 31s 79ms/step - loss: 0.5129 - accuracy: 0.8940 - val_loss: 0.5769 - val_accuracy: 0.8794 - lr: 1.0000e-05\n",
            "Epoch 65/100\n",
            "391/391 [==============================] - 31s 79ms/step - loss: 0.5037 - accuracy: 0.8977 - val_loss: 0.5785 - val_accuracy: 0.8820 - lr: 1.0000e-05\n",
            "Epoch 66/100\n",
            "391/391 [==============================] - 31s 79ms/step - loss: 0.5075 - accuracy: 0.8974 - val_loss: 0.5771 - val_accuracy: 0.8816 - lr: 1.0000e-05\n",
            "Epoch 67/100\n",
            "391/391 [==============================] - 31s 79ms/step - loss: 0.5072 - accuracy: 0.8967 - val_loss: 0.5775 - val_accuracy: 0.8810 - lr: 1.0000e-05\n",
            "Epoch 68/100\n",
            "391/391 [==============================] - 31s 79ms/step - loss: 0.5058 - accuracy: 0.8960 - val_loss: 0.5795 - val_accuracy: 0.8792 - lr: 1.0000e-05\n",
            "Epoch 69/100\n",
            "391/391 [==============================] - 31s 79ms/step - loss: 0.5041 - accuracy: 0.8991 - val_loss: 0.5793 - val_accuracy: 0.8804 - lr: 1.0000e-05\n",
            "Epoch 70/100\n",
            "391/391 [==============================] - 31s 79ms/step - loss: 0.4987 - accuracy: 0.8988 - val_loss: 0.5780 - val_accuracy: 0.8788 - lr: 1.0000e-05\n",
            "Epoch 71/100\n",
            "391/391 [==============================] - 31s 79ms/step - loss: 0.4998 - accuracy: 0.8988 - val_loss: 0.5786 - val_accuracy: 0.8788 - lr: 1.0000e-05\n",
            "Epoch 72/100\n",
            "391/391 [==============================] - 31s 79ms/step - loss: 0.4986 - accuracy: 0.8991 - val_loss: 0.5782 - val_accuracy: 0.8794 - lr: 1.0000e-05\n",
            "Epoch 73/100\n",
            "391/391 [==============================] - 31s 79ms/step - loss: 0.5015 - accuracy: 0.8978 - val_loss: 0.5762 - val_accuracy: 0.8810 - lr: 1.0000e-05\n",
            "Epoch 74/100\n",
            "391/391 [==============================] - 31s 79ms/step - loss: 0.4954 - accuracy: 0.8999 - val_loss: 0.5784 - val_accuracy: 0.8804 - lr: 1.0000e-05\n",
            "Epoch 75/100\n",
            "391/391 [==============================] - 31s 79ms/step - loss: 0.4957 - accuracy: 0.8992 - val_loss: 0.5740 - val_accuracy: 0.8828 - lr: 1.0000e-05\n",
            "Epoch 76/100\n",
            "391/391 [==============================] - 31s 80ms/step - loss: 0.4945 - accuracy: 0.9009 - val_loss: 0.5730 - val_accuracy: 0.8828 - lr: 1.0000e-05\n",
            "Epoch 77/100\n",
            "391/391 [==============================] - 31s 79ms/step - loss: 0.4962 - accuracy: 0.8981 - val_loss: 0.5737 - val_accuracy: 0.8812 - lr: 1.0000e-05\n",
            "Epoch 78/100\n",
            "391/391 [==============================] - 31s 79ms/step - loss: 0.4929 - accuracy: 0.8998 - val_loss: 0.5716 - val_accuracy: 0.8812 - lr: 1.0000e-05\n",
            "Epoch 79/100\n",
            "391/391 [==============================] - 31s 79ms/step - loss: 0.4920 - accuracy: 0.9002 - val_loss: 0.5745 - val_accuracy: 0.8832 - lr: 1.0000e-05\n",
            "Epoch 80/100\n",
            "391/391 [==============================] - 31s 80ms/step - loss: 0.4952 - accuracy: 0.9007 - val_loss: 0.5721 - val_accuracy: 0.8834 - lr: 1.0000e-05\n",
            "Epoch 81/100\n",
            "391/391 [==============================] - 31s 79ms/step - loss: 0.4926 - accuracy: 0.9002 - val_loss: 0.5742 - val_accuracy: 0.8844 - lr: 1.0000e-05\n",
            "Epoch 82/100\n",
            "391/391 [==============================] - 31s 79ms/step - loss: 0.4867 - accuracy: 0.9016 - val_loss: 0.5727 - val_accuracy: 0.8838 - lr: 1.0000e-05\n",
            "Epoch 83/100\n",
            "391/391 [==============================] - 31s 79ms/step - loss: 0.4906 - accuracy: 0.9012 - val_loss: 0.5716 - val_accuracy: 0.8826 - lr: 1.0000e-05\n",
            "Epoch 84/100\n",
            "391/391 [==============================] - 31s 79ms/step - loss: 0.4915 - accuracy: 0.9006 - val_loss: 0.5723 - val_accuracy: 0.8830 - lr: 1.0000e-05\n",
            "Epoch 85/100\n",
            "391/391 [==============================] - 31s 79ms/step - loss: 0.4908 - accuracy: 0.9011 - val_loss: 0.5693 - val_accuracy: 0.8836 - lr: 1.0000e-05\n",
            "Epoch 86/100\n",
            "391/391 [==============================] - 31s 79ms/step - loss: 0.4875 - accuracy: 0.9011 - val_loss: 0.5706 - val_accuracy: 0.8814 - lr: 1.0000e-05\n",
            "Epoch 87/100\n",
            "391/391 [==============================] - 31s 79ms/step - loss: 0.4830 - accuracy: 0.9036 - val_loss: 0.5713 - val_accuracy: 0.8824 - lr: 1.0000e-05\n",
            "Epoch 88/100\n",
            "391/391 [==============================] - 31s 79ms/step - loss: 0.4826 - accuracy: 0.9019 - val_loss: 0.5705 - val_accuracy: 0.8820 - lr: 1.0000e-05\n",
            "Epoch 89/100\n",
            "391/391 [==============================] - 31s 79ms/step - loss: 0.4814 - accuracy: 0.9037 - val_loss: 0.5733 - val_accuracy: 0.8832 - lr: 1.0000e-05\n",
            "Epoch 90/100\n",
            "391/391 [==============================] - 31s 79ms/step - loss: 0.4842 - accuracy: 0.9024 - val_loss: 0.5704 - val_accuracy: 0.8840 - lr: 1.0000e-05\n",
            "Epoch 91/100\n",
            "391/391 [==============================] - 31s 79ms/step - loss: 0.4796 - accuracy: 0.9020 - val_loss: 0.5696 - val_accuracy: 0.8832 - lr: 1.0000e-05\n",
            "Epoch 92/100\n",
            "391/391 [==============================] - 31s 79ms/step - loss: 0.4863 - accuracy: 0.9020 - val_loss: 0.5671 - val_accuracy: 0.8820 - lr: 1.0000e-05\n",
            "Epoch 93/100\n",
            "391/391 [==============================] - 31s 79ms/step - loss: 0.4856 - accuracy: 0.9005 - val_loss: 0.5655 - val_accuracy: 0.8832 - lr: 1.0000e-05\n",
            "Epoch 94/100\n",
            "391/391 [==============================] - 31s 79ms/step - loss: 0.4790 - accuracy: 0.9031 - val_loss: 0.5695 - val_accuracy: 0.8822 - lr: 1.0000e-05\n",
            "Epoch 95/100\n",
            "391/391 [==============================] - 31s 79ms/step - loss: 0.4827 - accuracy: 0.9016 - val_loss: 0.5670 - val_accuracy: 0.8830 - lr: 1.0000e-05\n",
            "Epoch 96/100\n",
            "391/391 [==============================] - 31s 79ms/step - loss: 0.4804 - accuracy: 0.9020 - val_loss: 0.5690 - val_accuracy: 0.8828 - lr: 1.0000e-05\n",
            "Epoch 97/100\n",
            "391/391 [==============================] - 31s 79ms/step - loss: 0.4762 - accuracy: 0.9033 - val_loss: 0.5654 - val_accuracy: 0.8832 - lr: 1.0000e-05\n",
            "Epoch 98/100\n",
            "391/391 [==============================] - 31s 79ms/step - loss: 0.4790 - accuracy: 0.9037 - val_loss: 0.5673 - val_accuracy: 0.8824 - lr: 1.0000e-05\n",
            "Epoch 99/100\n",
            "391/391 [==============================] - 31s 79ms/step - loss: 0.4797 - accuracy: 0.9027 - val_loss: 0.5617 - val_accuracy: 0.8830 - lr: 1.0000e-05\n",
            "Epoch 100/100\n",
            "391/391 [==============================] - 31s 79ms/step - loss: 0.4706 - accuracy: 0.9060 - val_loss: 0.5639 - val_accuracy: 0.8840 - lr: 1.0000e-05\n"
          ]
        }
      ],
      "source": [
        "hist = []\n",
        "for model in models:\n",
        "  model.compile(optimizer='Adam', \n",
        "                loss='categorical_crossentropy', metrics=['accuracy'])\n",
        "\n",
        "\n",
        "  from tensorflow.keras.callbacks import EarlyStopping, ReduceLROnPlateau\n",
        "  learning_rate_reduction = ReduceLROnPlateau(monitor='val_loss', \n",
        "                                              patience=3, \n",
        "                                              verbose=1, \n",
        "                                              factor=0.1, \n",
        "                                              min_lr=0.00001)\n",
        "\n",
        "  hist.append(model.fit(datagen.flow(train_images, train_labels, batch_size=128), epochs=100,\n",
        "            validation_data=(valid_images, valid_labels),callbacks = [learning_rate_reduction]))"
      ]
    },
    {
      "cell_type": "markdown",
      "metadata": {
        "id": "4cXt3vqd9dJa"
      },
      "source": []
    },
    {
      "cell_type": "markdown",
      "metadata": {
        "id": "-CujS3lCl5fP"
      },
      "source": [
        "# Test"
      ]
    },
    {
      "cell_type": "code",
      "source": [
        "fig, loss_ax = plt.subplots()\n",
        "acc_ax = loss_ax.twinx()\n",
        "hist = hist[0]\n",
        "\n",
        "loss_ax.plot(hist.history['loss'], 'y', label='loss')\n",
        "loss_ax.plot(hist.history['val_loss'], 'r', label='val loss')\n",
        "loss_ax.set_xlabel('epoch')\n",
        "loss_ax.set_ylabel('loss')\n",
        "loss_ax.legend(loc='upper left')\n",
        "\n",
        "acc_ax.plot(hist.history['accuracy'], 'b', label='train acc')\n",
        "acc_ax.plot(hist.history['val_accuracy'], 'g', label='val acc')\n",
        "acc_ax.set_ylabel('accuracy')\n",
        "acc_ax.legend(loc='upper left')\n",
        "\n",
        "plt.show()"
      ],
      "metadata": {
        "colab": {
          "base_uri": "https://localhost:8080/",
          "height": 279
        },
        "id": "vqmeKQCEM8lZ",
        "outputId": "19a6cb17-0f1a-4e88-e006-7b8303c62777"
      },
      "execution_count": null,
      "outputs": [
        {
          "output_type": "display_data",
          "data": {
            "text/plain": [
              "<Figure size 432x288 with 2 Axes>"
            ],
            "image/png": "[encoded data removed]"
          },
          "metadata": {
            "needs_background": "light"
          }
        }
      ]
    },
    {
      "cell_type": "code",
      "source": [
        "predict_labels = model.predict(test_images)\n",
        "accuracy = [tf.keras.metrics.CategoricalAccuracy(), tf.keras.metrics.TopKCategoricalAccuracy(k=5)]\n",
        "accuracy[0].update_state(test_labels,predict_labels)\n",
        "accuracy[1].update_state(test_labels,predict_labels)\n",
        "\n",
        "print(\"top-1 error : \", 1 - accuracy[0].result().numpy())\n",
        "print(\"top-5 error : \", 1 - accuracy[1].result().numpy())"
      ],
      "metadata": {
        "colab": {
          "base_uri": "https://localhost:8080/"
        },
        "id": "sdUw4py9LtUv",
        "outputId": "0c47a04e-6c04-4561-e28c-88cedd550c3d"
      },
      "execution_count": null,
      "outputs": [
        {
          "output_type": "stream",
          "name": "stdout",
          "text": [
            "157/157 [==============================] - 2s 15ms/step\n",
            "top-1 error :  0.11239999532699585\n",
            "top-5 error :  0.004800021648406982\n"
          ]
        }
      ]
    }
  ],
  "metadata": {
    "accelerator": "GPU",
    "colab": {
      "provenance": [],
      "include_colab_link": true
    },
    "gpuClass": "standard",
    "kernelspec": {
      "display_name": "Python 3",
      "name": "python3"
    },
    "language_info": {
      "name": "python"
    }
  },
  "nbformat": 4,
  "nbformat_minor": 0
}