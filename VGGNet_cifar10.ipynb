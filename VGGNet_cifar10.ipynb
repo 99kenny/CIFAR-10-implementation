{
  "cells": [
    {
      "cell_type": "markdown",
      "metadata": {
        "id": "view-in-github",
        "colab_type": "text"
      },
      "source": [
        "<a href=\"https://colab.research.google.com/github/99kenny/Deep-Learning/blob/main/VGGNet_cifar10.ipynb\" target=\"_parent\"><img src=\"https://colab.research.google.com/assets/colab-badge.svg\" alt=\"Open In Colab\"/></a>"
      ]
    },
    {
      "cell_type": "code",
      "execution_count": 73,
      "metadata": {
        "id": "cAcJ6uS2k_fI"
      },
      "outputs": [],
      "source": [
        "# from google.colab import drive\n",
        "# drive.mount('/content/drive')"
      ]
    },
    {
      "cell_type": "code",
      "execution_count": 74,
      "metadata": {
        "id": "MTKIDNEtuQV6",
        "colab": {
          "base_uri": "https://localhost:8080/"
        },
        "outputId": "98e47ac6-ee62-4c79-ce28-72d1ef3d5d5b"
      },
      "outputs": [
        {
          "output_type": "stream",
          "name": "stdout",
          "text": [
            "/bin/bash: line 0: cd: /content/drive/MyDrive/Colab Notebooks/DeepLearningImplementation/Deep-Learning: No such file or directory\n"
          ]
        }
      ],
      "source": [
        "!cd /content/drive/MyDrive/\"Colab Notebooks\"/DeepLearningImplementation/Deep-Learning\n",
        "\n",
        "!git config --global user.email 'helloiamkenny@gmail.com'\n",
        "!git config --global user.name '99kenny'"
      ]
    },
    {
      "cell_type": "markdown",
      "metadata": {
        "id": "JbjVS9PLu8YF"
      },
      "source": [
        "# VGGNet\n",
        "- dataset : CIFAR-10"
      ]
    },
    {
      "cell_type": "code",
      "execution_count": 75,
      "metadata": {
        "id": "JPhOkPpAxvQd"
      },
      "outputs": [],
      "source": [
        "import tensorflow as tf\n",
        "import numpy as np\n",
        "import matplotlib.pyplot as plt\n",
        "from keras.layers import Flatten, Dense, Input, Conv2D, MaxPooling2D, Dropout, BatchNormalization\n",
        "from keras.models import Model\n",
        "from keras import optimizers, regularizers, utils\n",
        "from keras.preprocessing.image import ImageDataGenerator\n",
        "from keras import utils\n",
        "from tensorflow.keras.utils import to_categorical"
      ]
    },
    {
      "cell_type": "code",
      "execution_count": 76,
      "metadata": {
        "id": "u0qyGSBbu8Ab"
      },
      "outputs": [],
      "source": [
        "# download data\n",
        "cifar10 = tf.keras.datasets.cifar10 \n",
        "(train_images, train_labels), (test_images, test_labels) = cifar10.load_data()\n",
        "class_names = ['airplane', 'automobile', 'bird', 'cat', 'deer', 'dog','frog', 'horse', 'ship', 'truck']"
      ]
    },
    {
      "cell_type": "code",
      "source": [
        "# fig = plt.figure(figsize=(20,20))\n",
        "# axes = []\n",
        "# for index, img in enumerate(train_images):\n",
        "#   ax = fig.add_subplot(5,5,index+1)\n",
        "#   ax.set_title(class_names[train_labels[index][0]])\n",
        "#   ax.imshow(img)\n",
        "#   axes.append(ax)\n",
        "#   if (index+1) % 25 == 0:\n",
        "#     break\n",
        "# plt.show()"
      ],
      "metadata": {
        "id": "qDjClhxG2ayi"
      },
      "execution_count": 77,
      "outputs": []
    },
    {
      "cell_type": "code",
      "execution_count": 78,
      "metadata": {
        "colab": {
          "base_uri": "https://localhost:8080/"
        },
        "id": "03gRioW2xIhf",
        "outputId": "def9c909-5ec5-4540-cce3-0e8c8d39784c"
      },
      "outputs": [
        {
          "output_type": "stream",
          "name": "stdout",
          "text": [
            "(5000, 32, 32, 3)\n",
            "(5000, 10)\n"
          ]
        }
      ],
      "source": [
        "train_images = train_images / 255.0\n",
        "test_images = test_images / 255.0\n",
        "\n",
        "train_labels = to_categorical(train_labels, num_classes=10)\n",
        "test_labels = to_categorical(test_labels, num_classes=10)\n",
        "\n",
        "# split data -> validation, test\n",
        "valid_images, valid_labels = test_images[0:5000,:], test_labels[0:5000,:]\n",
        "test_images, test_labels = test_images[5000:,:], test_labels[5000:,:]\n",
        "\n",
        "print(valid_images.shape)\n",
        "print(valid_labels.shape)"
      ]
    },
    {
      "cell_type": "code",
      "execution_count": 79,
      "metadata": {
        "id": "qZsfFPT8hkUa"
      },
      "outputs": [],
      "source": [
        "# datagen = ImageDataGenerator(\n",
        "#             featurewise_center=False,  # set input mean to 0 over the dataset\n",
        "#             samplewise_center=False,  # set each sample mean to 0\n",
        "#             featurewise_std_normalization=False,  # divide inputs by std of the dataset\n",
        "#             samplewise_std_normalization=False,  # divide each input by its std\n",
        "#             zca_whitening=False,  # apply ZCA whitening\n",
        "#             rotation_range=15,  # randomly rotate images in the range (degrees, 0 to 180)\n",
        "#             width_shift_range=0.1,  # randomly shift images horizontally (fraction of total width)\n",
        "#             height_shift_range=0.1,  # randomly shift images vertically (fraction of total height)\n",
        "#             horizontal_flip=True,  # randomly flip images\n",
        "#             vertical_flip=False,\n",
        "#             )  # randomly flip images\n",
        "\n",
        "# datagen.fit(train_images)"
      ]
    },
    {
      "cell_type": "code",
      "execution_count": 80,
      "metadata": {
        "id": "GyrGCjfAqU92"
      },
      "outputs": [],
      "source": [
        "datagen = ImageDataGenerator(\n",
        "            featurewise_center=False,  # set input mean to 0 over the dataset\n",
        "            samplewise_center=False,  # set each sample mean to 0\n",
        "            featurewise_std_normalization=False,  # divide inputs by std of the dataset\n",
        "            samplewise_std_normalization=False,  # divide each input by its std\n",
        "            zca_whitening=False,  # apply ZCA whitening\n",
        "            rotation_range=15,  # randomly rotate images in the range (degrees, 0 to 180)\n",
        "            width_shift_range=0.1,  # randomly shift images horizontally (fraction of total width)\n",
        "            height_shift_range=0.1,  # randomly shift images vertically (fraction of total height)\n",
        "            horizontal_flip=True,  # randomly flip images\n",
        "            vertical_flip=False,\n",
        "            )  # randomly flip images\n",
        "\n",
        "datagen.fit(train_images)"
      ]
    },
    {
      "cell_type": "code",
      "execution_count": 81,
      "metadata": {
        "id": "9D4HQ9qt3I9T"
      },
      "outputs": [],
      "source": [
        "\n",
        "weight_decay = 0.0005\n",
        "img_rows, img_cols = 32, 32\n",
        "img_channels = 3 \n",
        "\n",
        "img_dim = (img_rows, img_cols, img_channels)  \n",
        "img_input = Input(shape=img_dim)\n",
        "\n",
        "def vgg_model():\n",
        "  x = Conv2D(64,(3,3),padding='same',activation = 'relu',kernel_regularizer=regularizers.l2(weight_decay))(img_input) \n",
        "  x = Dropout(0.3)(x)\n",
        "  x = Conv2D(64,(3,3),padding='same',activation = 'relu',kernel_regularizer=regularizers.l2(weight_decay))(x) \n",
        "  x = BatchNormalization()(x)\n",
        "  x = MaxPooling2D((2,2),strides=(2,2))(x) \n",
        "\n",
        "\n",
        "  x = Conv2D(128,(3,3),padding='same',activation = 'relu',kernel_regularizer=regularizers.l2(weight_decay))(x)\n",
        "  x = Dropout(0.4)(x)\n",
        "  x = Conv2D(128,(3,3),padding='same',activation = 'relu',kernel_regularizer=regularizers.l2(weight_decay))(x) \n",
        "  x = BatchNormalization()(x)\n",
        "  x = MaxPooling2D((2,2),strides=(2,2))(x) \n",
        "\n",
        "  x = Conv2D(256,(3,3),padding='same',activation = 'relu',kernel_regularizer=regularizers.l2(weight_decay))(x) \n",
        "  x = Dropout(0.4)(x)\n",
        "  x = Conv2D(256,(3,3),padding='same',activation = 'relu',kernel_regularizer=regularizers.l2(weight_decay))(x) \n",
        "  x = Conv2D(256,(3,3),padding='same',activation = 'relu',kernel_regularizer=regularizers.l2(weight_decay))(x) \n",
        "  x = Conv2D(256,(3,3),padding='same',activation = 'relu',kernel_regularizer=regularizers.l2(weight_decay))(x)\n",
        "  x = BatchNormalization()(x) \n",
        "  x = MaxPooling2D((2,2),strides=(2,2))(x) \n",
        "\n",
        "  x = Conv2D(512,(3,3),padding='same',activation = 'relu',kernel_regularizer=regularizers.l2(weight_decay))(x)\n",
        "  x = Dropout(0.4)(x)\n",
        "  x = Conv2D(512,(3,3),padding='same',activation = 'relu',kernel_regularizer=regularizers.l2(weight_decay))(x) \n",
        "  x = Conv2D(512,(3,3),padding='same',activation = 'relu',kernel_regularizer=regularizers.l2(weight_decay))(x)\n",
        "  x = Conv2D(512,(3,3),padding='same',activation = 'relu',kernel_regularizer=regularizers.l2(weight_decay))(x)\n",
        "  x = BatchNormalization()(x) \n",
        "  x = MaxPooling2D((2,2),strides=(2,2))(x) \n",
        "\n",
        "  x = Conv2D(512,(3,3),padding='same',activation = 'relu',kernel_regularizer=regularizers.l2(weight_decay))(x) \n",
        "  x = Dropout(0.4)(x)\n",
        "  x = Conv2D(512,(3,3),padding='same',activation = 'relu',kernel_regularizer=regularizers.l2(weight_decay))(x)\n",
        "  x = Conv2D(512,(3,3),padding='same',activation = 'relu',kernel_regularizer=regularizers.l2(weight_decay))(x)\n",
        "  x = Conv2D(512,(3,3),padding='same',activation = 'relu',kernel_regularizer=regularizers.l2(weight_decay))(x)\n",
        "  x = BatchNormalization()(x) \n",
        "  x = MaxPooling2D((2,2),strides=(2,2))(x)\n",
        "  x = Dropout(0.5)(x)\n",
        "\n",
        "  x = Flatten()(x)\n",
        "  x = Dense(512, activation = 'relu')(x)\n",
        "  x = Dropout(0.5)(x)\n",
        "  x = Dense(521, activation = 'relu')(x)\n",
        "  x = Dropout(0.5)(x)\n",
        "  x = Dense(10, activation = 'softmax')(x)\n",
        "  return x\n",
        "\n",
        "\n",
        "model = Model(inputs=img_input, outputs = vgg_model())\n",
        "models = [model]"
      ]
    },
    {
      "cell_type": "markdown",
      "metadata": {
        "id": "wmKl7d0hl26Y"
      },
      "source": [
        "# Train"
      ]
    },
    {
      "cell_type": "code",
      "execution_count": 82,
      "metadata": {
        "colab": {
          "base_uri": "https://localhost:8080/"
        },
        "id": "8keevh1l95ZF",
        "outputId": "fe82553a-8e06-4c0f-c442-500b5666b4cf"
      },
      "outputs": [
        {
          "output_type": "stream",
          "name": "stdout",
          "text": [
            "Epoch 1/100\n",
            "391/391 [==============================] - 36s 88ms/step - loss: 4.2047 - accuracy: 0.1803 - val_loss: 4.3594 - val_accuracy: 0.1014 - lr: 0.0010\n",
            "Epoch 2/100\n",
            "391/391 [==============================] - 33s 85ms/step - loss: 2.8338 - accuracy: 0.2066 - val_loss: 2.8772 - val_accuracy: 0.1612 - lr: 0.0010\n",
            "Epoch 3/100\n",
            "391/391 [==============================] - 34s 86ms/step - loss: 2.3206 - accuracy: 0.2287 - val_loss: 2.2188 - val_accuracy: 0.2314 - lr: 0.0010\n",
            "Epoch 4/100\n",
            "391/391 [==============================] - 33s 85ms/step - loss: 2.0800 - accuracy: 0.2520 - val_loss: 2.0159 - val_accuracy: 0.2538 - lr: 0.0010\n",
            "Epoch 5/100\n",
            "391/391 [==============================] - 33s 85ms/step - loss: 1.9501 - accuracy: 0.2871 - val_loss: 2.5358 - val_accuracy: 0.1952 - lr: 0.0010\n",
            "Epoch 6/100\n",
            "391/391 [==============================] - 33s 85ms/step - loss: 1.8786 - accuracy: 0.3166 - val_loss: 1.9029 - val_accuracy: 0.2892 - lr: 0.0010\n",
            "Epoch 7/100\n",
            "391/391 [==============================] - 33s 85ms/step - loss: 1.8047 - accuracy: 0.3681 - val_loss: 1.7932 - val_accuracy: 0.3722 - lr: 0.0010\n",
            "Epoch 8/100\n",
            "391/391 [==============================] - 33s 86ms/step - loss: 1.7365 - accuracy: 0.4007 - val_loss: 1.8381 - val_accuracy: 0.3480 - lr: 0.0010\n",
            "Epoch 9/100\n",
            "391/391 [==============================] - 33s 85ms/step - loss: 1.6703 - accuracy: 0.4385 - val_loss: 1.6781 - val_accuracy: 0.4430 - lr: 0.0010\n",
            "Epoch 10/100\n",
            "391/391 [==============================] - 33s 86ms/step - loss: 1.6461 - accuracy: 0.4608 - val_loss: 1.7436 - val_accuracy: 0.4404 - lr: 0.0010\n",
            "Epoch 11/100\n",
            "391/391 [==============================] - 33s 85ms/step - loss: 1.5864 - accuracy: 0.4852 - val_loss: 1.6690 - val_accuracy: 0.4908 - lr: 0.0010\n",
            "Epoch 12/100\n",
            "391/391 [==============================] - 33s 86ms/step - loss: 1.5750 - accuracy: 0.5025 - val_loss: 1.7566 - val_accuracy: 0.4856 - lr: 0.0010\n",
            "Epoch 13/100\n",
            "391/391 [==============================] - 33s 85ms/step - loss: 1.5178 - accuracy: 0.5404 - val_loss: 1.4901 - val_accuracy: 0.5222 - lr: 0.0010\n",
            "Epoch 14/100\n",
            "391/391 [==============================] - 33s 85ms/step - loss: 1.4740 - accuracy: 0.5691 - val_loss: 1.3024 - val_accuracy: 0.6428 - lr: 0.0010\n",
            "Epoch 15/100\n",
            "391/391 [==============================] - 33s 85ms/step - loss: 1.4246 - accuracy: 0.5945 - val_loss: 1.3174 - val_accuracy: 0.6340 - lr: 0.0010\n",
            "Epoch 16/100\n",
            "391/391 [==============================] - 33s 85ms/step - loss: 1.4108 - accuracy: 0.6082 - val_loss: 1.3346 - val_accuracy: 0.6406 - lr: 0.0010\n",
            "Epoch 17/100\n",
            "391/391 [==============================] - ETA: 0s - loss: 1.3746 - accuracy: 0.6271\n",
            "Epoch 17: ReduceLROnPlateau reducing learning rate to 0.00010000000474974513.\n",
            "391/391 [==============================] - 33s 85ms/step - loss: 1.3746 - accuracy: 0.6271 - val_loss: 1.3606 - val_accuracy: 0.6330 - lr: 0.0010\n",
            "Epoch 18/100\n",
            "391/391 [==============================] - 33s 85ms/step - loss: 1.2257 - accuracy: 0.6750 - val_loss: 1.0654 - val_accuracy: 0.7270 - lr: 1.0000e-04\n",
            "Epoch 19/100\n",
            "391/391 [==============================] - 33s 85ms/step - loss: 1.1683 - accuracy: 0.6920 - val_loss: 1.0367 - val_accuracy: 0.7314 - lr: 1.0000e-04\n",
            "Epoch 20/100\n",
            "391/391 [==============================] - 33s 85ms/step - loss: 1.1399 - accuracy: 0.6941 - val_loss: 1.0041 - val_accuracy: 0.7446 - lr: 1.0000e-04\n",
            "Epoch 21/100\n",
            "391/391 [==============================] - 33s 85ms/step - loss: 1.1077 - accuracy: 0.7046 - val_loss: 0.9848 - val_accuracy: 0.7470 - lr: 1.0000e-04\n",
            "Epoch 22/100\n",
            "391/391 [==============================] - 33s 85ms/step - loss: 1.0832 - accuracy: 0.7109 - val_loss: 0.9489 - val_accuracy: 0.7546 - lr: 1.0000e-04\n",
            "Epoch 23/100\n",
            "391/391 [==============================] - 33s 85ms/step - loss: 1.0634 - accuracy: 0.7184 - val_loss: 0.9456 - val_accuracy: 0.7568 - lr: 1.0000e-04\n",
            "Epoch 24/100\n",
            "391/391 [==============================] - 33s 85ms/step - loss: 1.0458 - accuracy: 0.7215 - val_loss: 0.9433 - val_accuracy: 0.7504 - lr: 1.0000e-04\n",
            "Epoch 25/100\n",
            "391/391 [==============================] - 33s 86ms/step - loss: 1.0266 - accuracy: 0.7270 - val_loss: 0.8995 - val_accuracy: 0.7710 - lr: 1.0000e-04\n",
            "Epoch 26/100\n",
            "391/391 [==============================] - 33s 85ms/step - loss: 1.0073 - accuracy: 0.7316 - val_loss: 0.8882 - val_accuracy: 0.7718 - lr: 1.0000e-04\n",
            "Epoch 27/100\n",
            "391/391 [==============================] - 33s 85ms/step - loss: 0.9955 - accuracy: 0.7345 - val_loss: 0.8950 - val_accuracy: 0.7708 - lr: 1.0000e-04\n",
            "Epoch 28/100\n",
            "391/391 [==============================] - 33s 85ms/step - loss: 0.9816 - accuracy: 0.7394 - val_loss: 0.8680 - val_accuracy: 0.7738 - lr: 1.0000e-04\n",
            "Epoch 29/100\n",
            "391/391 [==============================] - 33s 85ms/step - loss: 0.9652 - accuracy: 0.7417 - val_loss: 0.8474 - val_accuracy: 0.7800 - lr: 1.0000e-04\n",
            "Epoch 30/100\n",
            "391/391 [==============================] - 33s 85ms/step - loss: 0.9572 - accuracy: 0.7475 - val_loss: 0.8230 - val_accuracy: 0.7910 - lr: 1.0000e-04\n",
            "Epoch 31/100\n",
            "391/391 [==============================] - 34s 86ms/step - loss: 0.9423 - accuracy: 0.7521 - val_loss: 0.8350 - val_accuracy: 0.7870 - lr: 1.0000e-04\n",
            "Epoch 32/100\n",
            "391/391 [==============================] - 33s 85ms/step - loss: 0.9264 - accuracy: 0.7580 - val_loss: 0.8042 - val_accuracy: 0.7996 - lr: 1.0000e-04\n",
            "Epoch 33/100\n",
            "391/391 [==============================] - 33s 85ms/step - loss: 0.9111 - accuracy: 0.7629 - val_loss: 0.8085 - val_accuracy: 0.7966 - lr: 1.0000e-04\n",
            "Epoch 34/100\n",
            "391/391 [==============================] - 33s 85ms/step - loss: 0.9027 - accuracy: 0.7662 - val_loss: 0.8116 - val_accuracy: 0.7968 - lr: 1.0000e-04\n",
            "Epoch 35/100\n",
            "391/391 [==============================] - 33s 85ms/step - loss: 0.8916 - accuracy: 0.7698 - val_loss: 0.7908 - val_accuracy: 0.7980 - lr: 1.0000e-04\n",
            "Epoch 36/100\n",
            "391/391 [==============================] - 33s 85ms/step - loss: 0.8801 - accuracy: 0.7742 - val_loss: 0.7781 - val_accuracy: 0.8026 - lr: 1.0000e-04\n",
            "Epoch 37/100\n",
            "391/391 [==============================] - 33s 85ms/step - loss: 0.8700 - accuracy: 0.7768 - val_loss: 0.7337 - val_accuracy: 0.8218 - lr: 1.0000e-04\n",
            "Epoch 38/100\n",
            "391/391 [==============================] - 33s 85ms/step - loss: 0.8526 - accuracy: 0.7830 - val_loss: 0.7493 - val_accuracy: 0.8138 - lr: 1.0000e-04\n",
            "Epoch 39/100\n",
            "391/391 [==============================] - 34s 86ms/step - loss: 0.8490 - accuracy: 0.7856 - val_loss: 0.7446 - val_accuracy: 0.8164 - lr: 1.0000e-04\n",
            "Epoch 40/100\n",
            "391/391 [==============================] - ETA: 0s - loss: 0.8345 - accuracy: 0.7886\n",
            "Epoch 40: ReduceLROnPlateau reducing learning rate to 1.0000000474974514e-05.\n",
            "391/391 [==============================] - 34s 87ms/step - loss: 0.8345 - accuracy: 0.7886 - val_loss: 0.7487 - val_accuracy: 0.8192 - lr: 1.0000e-04\n",
            "Epoch 41/100\n",
            "391/391 [==============================] - 33s 85ms/step - loss: 0.8082 - accuracy: 0.7969 - val_loss: 0.7133 - val_accuracy: 0.8296 - lr: 1.0000e-05\n",
            "Epoch 42/100\n",
            "391/391 [==============================] - 33s 85ms/step - loss: 0.8038 - accuracy: 0.8003 - val_loss: 0.7069 - val_accuracy: 0.8298 - lr: 1.0000e-05\n",
            "Epoch 43/100\n",
            "391/391 [==============================] - 33s 85ms/step - loss: 0.7969 - accuracy: 0.8002 - val_loss: 0.7083 - val_accuracy: 0.8278 - lr: 1.0000e-05\n",
            "Epoch 44/100\n",
            "391/391 [==============================] - 33s 86ms/step - loss: 0.7951 - accuracy: 0.8017 - val_loss: 0.7073 - val_accuracy: 0.8290 - lr: 1.0000e-05\n",
            "Epoch 45/100\n",
            "391/391 [==============================] - 33s 85ms/step - loss: 0.7897 - accuracy: 0.8043 - val_loss: 0.7018 - val_accuracy: 0.8312 - lr: 1.0000e-05\n",
            "Epoch 46/100\n",
            "391/391 [==============================] - 33s 85ms/step - loss: 0.7939 - accuracy: 0.8021 - val_loss: 0.6995 - val_accuracy: 0.8316 - lr: 1.0000e-05\n",
            "Epoch 47/100\n",
            "391/391 [==============================] - 33s 85ms/step - loss: 0.7814 - accuracy: 0.8044 - val_loss: 0.6990 - val_accuracy: 0.8312 - lr: 1.0000e-05\n",
            "Epoch 48/100\n",
            "391/391 [==============================] - 33s 85ms/step - loss: 0.7867 - accuracy: 0.8043 - val_loss: 0.6987 - val_accuracy: 0.8322 - lr: 1.0000e-05\n",
            "Epoch 49/100\n",
            "391/391 [==============================] - 34s 86ms/step - loss: 0.7836 - accuracy: 0.8046 - val_loss: 0.6966 - val_accuracy: 0.8334 - lr: 1.0000e-05\n",
            "Epoch 50/100\n",
            "391/391 [==============================] - 33s 85ms/step - loss: 0.7817 - accuracy: 0.8048 - val_loss: 0.6950 - val_accuracy: 0.8312 - lr: 1.0000e-05\n",
            "Epoch 51/100\n",
            "391/391 [==============================] - 33s 85ms/step - loss: 0.7784 - accuracy: 0.8068 - val_loss: 0.6934 - val_accuracy: 0.8308 - lr: 1.0000e-05\n",
            "Epoch 52/100\n",
            "391/391 [==============================] - 33s 85ms/step - loss: 0.7763 - accuracy: 0.8072 - val_loss: 0.6902 - val_accuracy: 0.8324 - lr: 1.0000e-05\n",
            "Epoch 53/100\n",
            "391/391 [==============================] - 33s 85ms/step - loss: 0.7766 - accuracy: 0.8051 - val_loss: 0.6892 - val_accuracy: 0.8366 - lr: 1.0000e-05\n",
            "Epoch 54/100\n",
            "391/391 [==============================] - 33s 85ms/step - loss: 0.7721 - accuracy: 0.8088 - val_loss: 0.6875 - val_accuracy: 0.8356 - lr: 1.0000e-05\n",
            "Epoch 55/100\n",
            "391/391 [==============================] - 33s 85ms/step - loss: 0.7723 - accuracy: 0.8065 - val_loss: 0.6879 - val_accuracy: 0.8344 - lr: 1.0000e-05\n",
            "Epoch 56/100\n",
            "391/391 [==============================] - 33s 86ms/step - loss: 0.7672 - accuracy: 0.8088 - val_loss: 0.6829 - val_accuracy: 0.8368 - lr: 1.0000e-05\n",
            "Epoch 57/100\n",
            "391/391 [==============================] - 33s 85ms/step - loss: 0.7687 - accuracy: 0.8077 - val_loss: 0.6851 - val_accuracy: 0.8392 - lr: 1.0000e-05\n",
            "Epoch 58/100\n",
            "391/391 [==============================] - 33s 85ms/step - loss: 0.7682 - accuracy: 0.8091 - val_loss: 0.6805 - val_accuracy: 0.8362 - lr: 1.0000e-05\n",
            "Epoch 59/100\n",
            "391/391 [==============================] - 34s 86ms/step - loss: 0.7631 - accuracy: 0.8097 - val_loss: 0.6826 - val_accuracy: 0.8372 - lr: 1.0000e-05\n",
            "Epoch 60/100\n",
            "391/391 [==============================] - 33s 85ms/step - loss: 0.7641 - accuracy: 0.8114 - val_loss: 0.6821 - val_accuracy: 0.8370 - lr: 1.0000e-05\n",
            "Epoch 61/100\n",
            "391/391 [==============================] - 34s 86ms/step - loss: 0.7631 - accuracy: 0.8115 - val_loss: 0.6744 - val_accuracy: 0.8396 - lr: 1.0000e-05\n",
            "Epoch 62/100\n",
            "391/391 [==============================] - 34s 86ms/step - loss: 0.7634 - accuracy: 0.8098 - val_loss: 0.6761 - val_accuracy: 0.8364 - lr: 1.0000e-05\n",
            "Epoch 63/100\n",
            "391/391 [==============================] - 34s 86ms/step - loss: 0.7602 - accuracy: 0.8111 - val_loss: 0.6748 - val_accuracy: 0.8394 - lr: 1.0000e-05\n",
            "Epoch 64/100\n",
            "391/391 [==============================] - ETA: 0s - loss: 0.7578 - accuracy: 0.8114\n",
            "Epoch 64: ReduceLROnPlateau reducing learning rate to 1e-05.\n",
            "391/391 [==============================] - 33s 85ms/step - loss: 0.7578 - accuracy: 0.8114 - val_loss: 0.6758 - val_accuracy: 0.8408 - lr: 1.0000e-05\n",
            "Epoch 65/100\n",
            "391/391 [==============================] - 33s 85ms/step - loss: 0.7555 - accuracy: 0.8129 - val_loss: 0.6762 - val_accuracy: 0.8396 - lr: 1.0000e-05\n",
            "Epoch 66/100\n",
            "391/391 [==============================] - 34s 86ms/step - loss: 0.7541 - accuracy: 0.8117 - val_loss: 0.6729 - val_accuracy: 0.8418 - lr: 1.0000e-05\n",
            "Epoch 67/100\n",
            "391/391 [==============================] - 33s 85ms/step - loss: 0.7592 - accuracy: 0.8126 - val_loss: 0.6760 - val_accuracy: 0.8390 - lr: 1.0000e-05\n",
            "Epoch 68/100\n",
            "391/391 [==============================] - 34s 86ms/step - loss: 0.7533 - accuracy: 0.8123 - val_loss: 0.6711 - val_accuracy: 0.8402 - lr: 1.0000e-05\n",
            "Epoch 69/100\n",
            "391/391 [==============================] - 33s 85ms/step - loss: 0.7510 - accuracy: 0.8129 - val_loss: 0.6757 - val_accuracy: 0.8360 - lr: 1.0000e-05\n",
            "Epoch 70/100\n",
            "391/391 [==============================] - 33s 85ms/step - loss: 0.7443 - accuracy: 0.8161 - val_loss: 0.6744 - val_accuracy: 0.8376 - lr: 1.0000e-05\n",
            "Epoch 71/100\n",
            "391/391 [==============================] - 33s 85ms/step - loss: 0.7534 - accuracy: 0.8122 - val_loss: 0.6679 - val_accuracy: 0.8406 - lr: 1.0000e-05\n",
            "Epoch 72/100\n",
            "391/391 [==============================] - 33s 85ms/step - loss: 0.7480 - accuracy: 0.8123 - val_loss: 0.6677 - val_accuracy: 0.8388 - lr: 1.0000e-05\n",
            "Epoch 73/100\n",
            "391/391 [==============================] - 34s 86ms/step - loss: 0.7501 - accuracy: 0.8156 - val_loss: 0.6672 - val_accuracy: 0.8392 - lr: 1.0000e-05\n",
            "Epoch 74/100\n",
            "391/391 [==============================] - 33s 85ms/step - loss: 0.7474 - accuracy: 0.8132 - val_loss: 0.6703 - val_accuracy: 0.8370 - lr: 1.0000e-05\n",
            "Epoch 75/100\n",
            "391/391 [==============================] - 33s 85ms/step - loss: 0.7464 - accuracy: 0.8154 - val_loss: 0.6693 - val_accuracy: 0.8400 - lr: 1.0000e-05\n",
            "Epoch 76/100\n",
            "391/391 [==============================] - 34s 86ms/step - loss: 0.7396 - accuracy: 0.8172 - val_loss: 0.6653 - val_accuracy: 0.8422 - lr: 1.0000e-05\n",
            "Epoch 77/100\n",
            "391/391 [==============================] - 34s 86ms/step - loss: 0.7513 - accuracy: 0.8144 - val_loss: 0.6669 - val_accuracy: 0.8404 - lr: 1.0000e-05\n",
            "Epoch 78/100\n",
            "391/391 [==============================] - 34s 86ms/step - loss: 0.7458 - accuracy: 0.8135 - val_loss: 0.6656 - val_accuracy: 0.8378 - lr: 1.0000e-05\n",
            "Epoch 79/100\n",
            "391/391 [==============================] - 34s 86ms/step - loss: 0.7397 - accuracy: 0.8158 - val_loss: 0.6682 - val_accuracy: 0.8396 - lr: 1.0000e-05\n",
            "Epoch 80/100\n",
            "391/391 [==============================] - 34s 86ms/step - loss: 0.7388 - accuracy: 0.8161 - val_loss: 0.6672 - val_accuracy: 0.8408 - lr: 1.0000e-05\n",
            "Epoch 81/100\n",
            "391/391 [==============================] - 33s 85ms/step - loss: 0.7385 - accuracy: 0.8149 - val_loss: 0.6624 - val_accuracy: 0.8402 - lr: 1.0000e-05\n",
            "Epoch 82/100\n",
            "391/391 [==============================] - 33s 86ms/step - loss: 0.7357 - accuracy: 0.8195 - val_loss: 0.6611 - val_accuracy: 0.8432 - lr: 1.0000e-05\n",
            "Epoch 83/100\n",
            "391/391 [==============================] - 33s 85ms/step - loss: 0.7347 - accuracy: 0.8175 - val_loss: 0.6622 - val_accuracy: 0.8438 - lr: 1.0000e-05\n",
            "Epoch 84/100\n",
            "391/391 [==============================] - 33s 85ms/step - loss: 0.7301 - accuracy: 0.8177 - val_loss: 0.6604 - val_accuracy: 0.8420 - lr: 1.0000e-05\n",
            "Epoch 85/100\n",
            "391/391 [==============================] - 34s 86ms/step - loss: 0.7352 - accuracy: 0.8191 - val_loss: 0.6565 - val_accuracy: 0.8438 - lr: 1.0000e-05\n",
            "Epoch 86/100\n",
            "391/391 [==============================] - 34s 86ms/step - loss: 0.7292 - accuracy: 0.8196 - val_loss: 0.6570 - val_accuracy: 0.8416 - lr: 1.0000e-05\n",
            "Epoch 87/100\n",
            "391/391 [==============================] - 34s 86ms/step - loss: 0.7357 - accuracy: 0.8194 - val_loss: 0.6550 - val_accuracy: 0.8434 - lr: 1.0000e-05\n",
            "Epoch 88/100\n",
            "391/391 [==============================] - 34s 86ms/step - loss: 0.7257 - accuracy: 0.8220 - val_loss: 0.6504 - val_accuracy: 0.8456 - lr: 1.0000e-05\n",
            "Epoch 89/100\n",
            "391/391 [==============================] - 34s 86ms/step - loss: 0.7283 - accuracy: 0.8213 - val_loss: 0.6542 - val_accuracy: 0.8432 - lr: 1.0000e-05\n",
            "Epoch 90/100\n",
            "391/391 [==============================] - 33s 85ms/step - loss: 0.7234 - accuracy: 0.8211 - val_loss: 0.6592 - val_accuracy: 0.8410 - lr: 1.0000e-05\n",
            "Epoch 91/100\n",
            "391/391 [==============================] - 34s 86ms/step - loss: 0.7247 - accuracy: 0.8200 - val_loss: 0.6582 - val_accuracy: 0.8428 - lr: 1.0000e-05\n",
            "Epoch 92/100\n",
            "391/391 [==============================] - 34s 86ms/step - loss: 0.7242 - accuracy: 0.8204 - val_loss: 0.6510 - val_accuracy: 0.8460 - lr: 1.0000e-05\n",
            "Epoch 93/100\n",
            "391/391 [==============================] - 33s 85ms/step - loss: 0.7194 - accuracy: 0.8212 - val_loss: 0.6517 - val_accuracy: 0.8480 - lr: 1.0000e-05\n",
            "Epoch 94/100\n",
            "391/391 [==============================] - 34s 86ms/step - loss: 0.7203 - accuracy: 0.8231 - val_loss: 0.6473 - val_accuracy: 0.8446 - lr: 1.0000e-05\n",
            "Epoch 95/100\n",
            "391/391 [==============================] - 35s 88ms/step - loss: 0.7209 - accuracy: 0.8227 - val_loss: 0.6465 - val_accuracy: 0.8472 - lr: 1.0000e-05\n",
            "Epoch 96/100\n",
            "391/391 [==============================] - 33s 86ms/step - loss: 0.7225 - accuracy: 0.8210 - val_loss: 0.6481 - val_accuracy: 0.8454 - lr: 1.0000e-05\n",
            "Epoch 97/100\n",
            "391/391 [==============================] - 34s 86ms/step - loss: 0.7205 - accuracy: 0.8206 - val_loss: 0.6461 - val_accuracy: 0.8440 - lr: 1.0000e-05\n",
            "Epoch 98/100\n",
            "391/391 [==============================] - 34s 86ms/step - loss: 0.7157 - accuracy: 0.8242 - val_loss: 0.6474 - val_accuracy: 0.8472 - lr: 1.0000e-05\n",
            "Epoch 99/100\n",
            "391/391 [==============================] - 34s 86ms/step - loss: 0.7132 - accuracy: 0.8237 - val_loss: 0.6463 - val_accuracy: 0.8478 - lr: 1.0000e-05\n",
            "Epoch 100/100\n",
            "391/391 [==============================] - 33s 85ms/step - loss: 0.7126 - accuracy: 0.8241 - val_loss: 0.6474 - val_accuracy: 0.8462 - lr: 1.0000e-05\n"
          ]
        }
      ],
      "source": [
        "hist = []\n",
        "for model in models:\n",
        "  model.compile(optimizer='Adam', \n",
        "                loss='categorical_crossentropy', metrics=['accuracy'])\n",
        "\n",
        "\n",
        "  from tensorflow.keras.callbacks import EarlyStopping, ReduceLROnPlateau\n",
        "  learning_rate_reduction = ReduceLROnPlateau(monitor='val_loss', \n",
        "                                              patience=3, \n",
        "                                              verbose=1, \n",
        "                                              factor=0.1, \n",
        "                                              min_lr=0.00001)\n",
        "\n",
        "  hist.append(model.fit(datagen.flow(train_images, train_labels, batch_size=128), epochs=100,\n",
        "            validation_data=(valid_images, valid_labels),callbacks = [learning_rate_reduction]))"
      ]
    },
    {
      "cell_type": "markdown",
      "metadata": {
        "id": "4cXt3vqd9dJa"
      },
      "source": []
    },
    {
      "cell_type": "markdown",
      "metadata": {
        "id": "-CujS3lCl5fP"
      },
      "source": [
        "# Test"
      ]
    },
    {
      "cell_type": "code",
      "execution_count": 83,
      "metadata": {
        "colab": {
          "base_uri": "https://localhost:8080/",
          "height": 266
        },
        "id": "mlnispaQ-GZo",
        "outputId": "a62798c3-5d5d-4cd1-8b11-c3a62649cd4d"
      },
      "outputs": [
        {
          "output_type": "stream",
          "name": "stdout",
          "text": [
            "157/157 [==============================] - 2s 13ms/step - loss: 0.6241 - accuracy: 0.8430\n"
          ]
        },
        {
          "output_type": "error",
          "ename": "ValueError",
          "evalue": "ignored",
          "traceback": [
            "\u001b[0;31m---------------------------------------------------------------------------\u001b[0m",
            "\u001b[0;31mValueError\u001b[0m                                Traceback (most recent call last)",
            "\u001b[0;32m<ipython-input-83-80c6c4e7a369>\u001b[0m in \u001b[0;36m<module>\u001b[0;34m\u001b[0m\n\u001b[1;32m      1\u001b[0m \u001b[0mresult\u001b[0m \u001b[0;34m=\u001b[0m \u001b[0;34m[\u001b[0m\u001b[0;34m]\u001b[0m\u001b[0;34m\u001b[0m\u001b[0;34m\u001b[0m\u001b[0m\n\u001b[1;32m      2\u001b[0m \u001b[0;32mfor\u001b[0m \u001b[0mindex\u001b[0m\u001b[0;34m,\u001b[0m\u001b[0mmodel\u001b[0m \u001b[0;32min\u001b[0m \u001b[0menumerate\u001b[0m\u001b[0;34m(\u001b[0m\u001b[0mmodels\u001b[0m\u001b[0;34m)\u001b[0m\u001b[0;34m:\u001b[0m\u001b[0;34m\u001b[0m\u001b[0;34m\u001b[0m\u001b[0m\n\u001b[0;32m----> 3\u001b[0;31m   \u001b[0mtest_loss\u001b[0m\u001b[0;34m,\u001b[0m \u001b[0mtest_acc\u001b[0m\u001b[0;34m,\u001b[0m \u001b[0mtest_sparse_top_k_categorical_accuracy\u001b[0m \u001b[0;34m=\u001b[0m \u001b[0mmodel\u001b[0m\u001b[0;34m.\u001b[0m\u001b[0mevaluate\u001b[0m\u001b[0;34m(\u001b[0m\u001b[0mtest_images\u001b[0m\u001b[0;34m,\u001b[0m\u001b[0mtest_labels\u001b[0m\u001b[0;34m)\u001b[0m\u001b[0;34m\u001b[0m\u001b[0;34m\u001b[0m\u001b[0m\n\u001b[0m\u001b[1;32m      4\u001b[0m   \u001b[0mresult\u001b[0m\u001b[0;34m.\u001b[0m\u001b[0mappend\u001b[0m\u001b[0;34m(\u001b[0m\u001b[0;34m[\u001b[0m\u001b[0mtest_acc\u001b[0m\u001b[0;34m,\u001b[0m\u001b[0mtest_sparse_top_k_categorical_accuracy\u001b[0m\u001b[0;34m]\u001b[0m\u001b[0;34m)\u001b[0m\u001b[0;34m\u001b[0m\u001b[0;34m\u001b[0m\u001b[0m\n\u001b[1;32m      5\u001b[0m   \u001b[0mprint\u001b[0m\u001b[0;34m(\u001b[0m\u001b[0;34m\"model_\"\u001b[0m\u001b[0;34m,\u001b[0m \u001b[0mchr\u001b[0m\u001b[0;34m(\u001b[0m\u001b[0mindex\u001b[0m\u001b[0;34m+\u001b[0m\u001b[0;36m65\u001b[0m\u001b[0;34m)\u001b[0m\u001b[0;34m)\u001b[0m\u001b[0;34m\u001b[0m\u001b[0;34m\u001b[0m\u001b[0m\n",
            "\u001b[0;31mValueError\u001b[0m: not enough values to unpack (expected 3, got 2)"
          ]
        }
      ],
      "source": [
        "result = []\n",
        "for index,model in enumerate(models):\n",
        "  test_loss, test_acc, test_sparse_top_k_categorical_accuracy = model.evaluate(test_images,test_labels)\n",
        "  result.append([test_acc,test_sparse_top_k_categorical_accuracy])   \n",
        "  print(\"model_\", chr(index+65))\n",
        "  print('test loss:', test_loss)\n",
        "  print('top-1 test error : ', (1 - test_acc)*100)\n",
        "  print('top-5 test error : ',(1 - test_sparse_top_k_categorical_accuracy)*100)"
      ]
    },
    {
      "cell_type": "markdown",
      "metadata": {
        "id": "7Bt-sghQK8oD"
      },
      "source": [
        "# Ensemble"
      ]
    },
    {
      "cell_type": "markdown",
      "metadata": {
        "id": "rOYulILylw7m"
      },
      "source": [
        "# Git push"
      ]
    },
    {
      "cell_type": "code",
      "execution_count": null,
      "metadata": {
        "id": "-XmsX-RCr8z1"
      },
      "outputs": [],
      "source": [
        "\n",
        "%cd /content/drive/MyDrive/\"Colab Notebooks\"/DeepLearningImplementation/Deep-Learning\n",
        "!ls\n",
        "!git add .\n",
        "!git commit -m \"feat: vgg A~E\"\n",
        "!git push origin main\n"
      ]
    }
  ],
  "metadata": {
    "accelerator": "GPU",
    "colab": {
      "provenance": [],
      "mount_file_id": "1Xeg7jSYpch3tA90LapHAYnDcirCETFJQ",
      "authorship_tag": "ABX9TyMB0gfEj7hp+QwW3quUzPSP",
      "include_colab_link": true
    },
    "gpuClass": "standard",
    "kernelspec": {
      "display_name": "Python 3",
      "name": "python3"
    },
    "language_info": {
      "name": "python"
    }
  },
  "nbformat": 4,
  "nbformat_minor": 0
}