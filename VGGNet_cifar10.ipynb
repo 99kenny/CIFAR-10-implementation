{
  "cells": [
    {
      "cell_type": "markdown",
      "metadata": {
        "id": "view-in-github",
        "colab_type": "text"
      },
      "source": [
        "<a href=\"https://colab.research.google.com/github/99kenny/Deep-Learning/blob/main/VGGNet_cifar10.ipynb\" target=\"_parent\"><img src=\"https://colab.research.google.com/assets/colab-badge.svg\" alt=\"Open In Colab\"/></a>"
      ]
    },
    {
      "cell_type": "code",
      "execution_count": 4,
      "metadata": {
        "colab": {
          "base_uri": "https://localhost:8080/"
        },
        "id": "dXBbYOliV9SD",
        "outputId": "07fc8c10-6cfa-4ba8-8660-4ca4a3268023"
      },
      "outputs": [
        {
          "output_type": "stream",
          "name": "stdout",
          "text": [
            "Mounted at /content/drive\n"
          ]
        }
      ],
      "source": [
        "from google.colab import drive\n",
        "drive.mount('/content/drive')"
      ]
    },
    {
      "cell_type": "code",
      "execution_count": 5,
      "metadata": {
        "id": "MTKIDNEtuQV6"
      },
      "outputs": [],
      "source": [
        "!cd /content/drive/MyDrive/\"Colab Notebooks\"/DeepLearningImplementation/Deep-Learning\n",
        "\n",
        "!git config --global user.email 'helloiamkenny@gmail.com'\n",
        "!git config --global user.name '99kenny'"
      ]
    },
    {
      "cell_type": "markdown",
      "metadata": {
        "id": "JbjVS9PLu8YF"
      },
      "source": [
        "# VGGNet\n",
        "- dataset : CIFAR-10"
      ]
    },
    {
      "cell_type": "code",
      "execution_count": 14,
      "metadata": {
        "id": "JPhOkPpAxvQd"
      },
      "outputs": [],
      "source": [
        "import tensorflow as tf\n",
        "import numpy as np\n",
        "import matplotlib.pyplot as plt\n",
        "from keras.layers import Flatten, Dense, Input, Conv2D, MaxPooling2D, Dropout, BatchNormalization, Activation\n",
        "from keras.models import Model\n",
        "from keras import optimizers, regularizers, utils\n",
        "from keras.preprocessing.image import ImageDataGenerator\n",
        "from keras import utils\n",
        "from tensorflow.keras.utils import to_categorical"
      ]
    },
    {
      "cell_type": "code",
      "execution_count": 7,
      "metadata": {
        "id": "u0qyGSBbu8Ab",
        "colab": {
          "base_uri": "https://localhost:8080/"
        },
        "outputId": "c4c7542f-597d-44a2-a55c-4111fdb32126"
      },
      "outputs": [
        {
          "output_type": "stream",
          "name": "stdout",
          "text": [
            "Downloading data from https://www.cs.toronto.edu/~kriz/cifar-10-python.tar.gz\n",
            "170498071/170498071 [==============================] - 2s 0us/step\n"
          ]
        }
      ],
      "source": [
        "# download data\n",
        "cifar10 = tf.keras.datasets.cifar10 \n",
        "(train_images, train_labels), (test_images, test_labels) = cifar10.load_data()\n",
        "class_names = ['airplane', 'automobile', 'bird', 'cat', 'deer', 'dog','frog', 'horse', 'ship', 'truck']"
      ]
    },
    {
      "cell_type": "code",
      "execution_count": 8,
      "metadata": {
        "id": "03gRioW2xIhf"
      },
      "outputs": [],
      "source": [
        "train_images = train_images - np.mean(train_images, axis=(0, 1, 2))\n",
        "test_images = test_images - np.mean(test_images, axis=(0, 1, 2))\n",
        "\n",
        "\n",
        "mean = np.mean(train_images,axis=(0,1,2,3))\n",
        "std = np.std(train_images, axis=(0, 1, 2, 3))\n",
        "train_images = (train_images - mean)/(std+1e-7)\n",
        "test_images = (test_images - mean)/(std+1e-7)\n",
        "\n",
        "train_labels = to_categorical(train_labels, num_classes=10)\n",
        "test_labels = to_categorical(test_labels, num_classes=10)\n",
        "\n",
        "# split data -> validation, test\n",
        "# valid_images, valid_labels = test_images[0:5000,:], test_labels[0:5000,:]\n",
        "# test_images, test_labels = test_images[5000:,:], test_labels[5000:,:]\n",
        "\n",
        "# print(valid_images.shape)\n",
        "# print(valid_labels.shape)"
      ]
    },
    {
      "cell_type": "code",
      "execution_count": 9,
      "metadata": {
        "id": "GyrGCjfAqU92"
      },
      "outputs": [],
      "source": [
        "datagen = ImageDataGenerator(\n",
        "            featurewise_center=False,  # set input mean to 0 over the dataset\n",
        "            samplewise_center=False,  # set each sample mean to 0\n",
        "            featurewise_std_normalization=False,  # divide inputs by std of the dataset\n",
        "            samplewise_std_normalization=False,  # divide each input by its std\n",
        "            zca_whitening=False,  # apply ZCA whitening\n",
        "            rotation_range=15,  # randomly rotate images in the range (degrees, 0 to 180)\n",
        "            width_shift_range=0.1,  # randomly shift images horizontally (fraction of total width)\n",
        "            height_shift_range=0.1,  # randomly shift images vertically (fraction of total height)\n",
        "            horizontal_flip=True,  # randomly flip images\n",
        "            vertical_flip=False,\n",
        "            )  # randomly flip images\n",
        "\n",
        "datagen.fit(train_images)"
      ]
    },
    {
      "cell_type": "code",
      "execution_count": 19,
      "metadata": {
        "id": "9D4HQ9qt3I9T"
      },
      "outputs": [],
      "source": [
        "weight_decay = 0.0005\n",
        "img_rows, img_cols = 32, 32\n",
        "img_channels = 3 \n",
        "num_classes = 10\n",
        "img_dim = (img_rows, img_cols, img_channels)  \n",
        "img_input = Input(shape=img_dim)\n",
        "\n",
        "def vgg_model_16():\n",
        "  model = tf.keras.Sequential()\n",
        "\n",
        "  model.add(Conv2D(64, (3, 3), padding='same',\n",
        "    input_shape=(32,32,3),kernel_regularizer=regularizers.l2(weight_decay)))\n",
        "  model.add(Activation('relu'))\n",
        "  model.add(BatchNormalization())\n",
        "  model.add(Dropout(0.3))\n",
        "\n",
        "  model.add(Conv2D(64, (3, 3), padding='same',kernel_regularizer=regularizers.l2(weight_decay)))\n",
        "  model.add(Activation('relu'))\n",
        "  model.add(BatchNormalization())\n",
        "\n",
        "  model.add(MaxPooling2D(pool_size=(2, 2)))\n",
        "\n",
        "  model.add(Conv2D(128, (3, 3), padding='same',kernel_regularizer=regularizers.l2(weight_decay)))\n",
        "  model.add(Activation('relu'))\n",
        "  model.add(BatchNormalization())\n",
        "  model.add(Dropout(0.4))\n",
        "\n",
        "  model.add(Conv2D(128, (3, 3), padding='same',kernel_regularizer=regularizers.l2(weight_decay)))\n",
        "  model.add(Activation('relu'))\n",
        "  model.add(BatchNormalization())\n",
        "\n",
        "  model.add(MaxPooling2D(pool_size=(2, 2)))\n",
        "\n",
        "  model.add(Conv2D(256, (3, 3), padding='same',kernel_regularizer=regularizers.l2(weight_decay)))\n",
        "  model.add(Activation('relu'))\n",
        "  model.add(BatchNormalization())\n",
        "  model.add(Dropout(0.4))\n",
        "\n",
        "  model.add(Conv2D(256, (3, 3), padding='same',kernel_regularizer=regularizers.l2(weight_decay)))\n",
        "  model.add(Activation('relu'))\n",
        "  model.add(BatchNormalization())\n",
        "  model.add(Dropout(0.4))\n",
        "\n",
        "  model.add(Conv2D(256, (3, 3), padding='same',kernel_regularizer=regularizers.l2(weight_decay)))\n",
        "  model.add(Activation('relu'))\n",
        "  model.add(BatchNormalization())\n",
        "\n",
        "  model.add(MaxPooling2D(pool_size=(2, 2)))\n",
        "\n",
        "\n",
        "  model.add(Conv2D(512, (3, 3), padding='same',kernel_regularizer=regularizers.l2(weight_decay)))\n",
        "  model.add(Activation('relu'))\n",
        "  model.add(BatchNormalization())\n",
        "  model.add(Dropout(0.4))\n",
        "\n",
        "  model.add(Conv2D(512, (3, 3), padding='same',kernel_regularizer=regularizers.l2(weight_decay)))\n",
        "  model.add(Activation('relu'))\n",
        "  model.add(BatchNormalization())\n",
        "  model.add(Dropout(0.4))\n",
        "\n",
        "  model.add(Conv2D(512, (3, 3), padding='same',kernel_regularizer=regularizers.l2(weight_decay)))\n",
        "  model.add(Activation('relu'))\n",
        "  model.add(BatchNormalization())\n",
        "\n",
        "  model.add(MaxPooling2D(pool_size=(2, 2)))\n",
        "\n",
        "\n",
        "  model.add(Conv2D(512, (3, 3), padding='same',kernel_regularizer=regularizers.l2(weight_decay)))\n",
        "  model.add(Activation('relu'))\n",
        "  model.add(BatchNormalization())\n",
        "  model.add(Dropout(0.4))\n",
        "\n",
        "  model.add(Conv2D(512, (3, 3), padding='same',kernel_regularizer=regularizers.l2(weight_decay)))\n",
        "  model.add(Activation('relu'))\n",
        "  model.add(BatchNormalization())\n",
        "  model.add(Dropout(0.4))\n",
        "\n",
        "  model.add(Conv2D(512, (3, 3), padding='same',kernel_regularizer=regularizers.l2(weight_decay)))\n",
        "  model.add(Activation('relu'))\n",
        "  model.add(BatchNormalization())\n",
        "\n",
        "  model.add(MaxPooling2D(pool_size=(2, 2)))\n",
        "  model.add(Dropout(0.5))\n",
        "\n",
        "  model.add(Flatten())\n",
        "  model.add(Dense(512,kernel_regularizer=regularizers.l2(weight_decay)))\n",
        "  model.add(Activation('relu'))\n",
        "  model.add(BatchNormalization())\n",
        "\n",
        "  model.add(Dropout(0.5))\n",
        "  model.add(Dense(num_classes))\n",
        "  model.add(Activation('softmax'))\n",
        "  return model\n",
        "\n",
        "\n",
        "model16 = vgg_model_16()\n",
        "models = [model16]"
      ]
    },
    {
      "cell_type": "markdown",
      "metadata": {
        "id": "dhujLDNpixsC"
      },
      "source": [
        "# 드롭아웃"
      ]
    },
    {
      "cell_type": "markdown",
      "metadata": {
        "id": "wmKl7d0hl26Y"
      },
      "source": [
        "# Train"
      ]
    },
    {
      "cell_type": "code",
      "execution_count": 21,
      "metadata": {
        "colab": {
          "base_uri": "https://localhost:8080/"
        },
        "id": "8keevh1l95ZF",
        "outputId": "d02366c9-83a9-4596-93c2-9314d3781acb"
      },
      "outputs": [
        {
          "output_type": "stream",
          "name": "stdout",
          "text": [
            "Epoch 1/60\n",
            "196/196 [==============================] - 37s 174ms/step - loss: 1.0536 - accuracy: 0.8087 - val_loss: 1.9286 - val_accuracy: 0.7608 - lr: 0.0010\n",
            "Epoch 2/60\n",
            "196/196 [==============================] - 34s 174ms/step - loss: 1.0870 - accuracy: 0.8285 - val_loss: 1.2885 - val_accuracy: 0.8185 - lr: 0.0010\n",
            "Epoch 3/60\n",
            "196/196 [==============================] - 34s 173ms/step - loss: 1.1158 - accuracy: 0.8366 - val_loss: 1.1824 - val_accuracy: 0.8399 - lr: 0.0010\n",
            "Epoch 4/60\n",
            "196/196 [==============================] - 34s 174ms/step - loss: 1.1465 - accuracy: 0.8388 - val_loss: 1.2848 - val_accuracy: 0.8138 - lr: 0.0010\n",
            "Epoch 5/60\n",
            "196/196 [==============================] - 36s 182ms/step - loss: 1.1648 - accuracy: 0.8407 - val_loss: 1.2494 - val_accuracy: 0.8311 - lr: 0.0010\n",
            "Epoch 6/60\n",
            "196/196 [==============================] - ETA: 0s - loss: 1.1891 - accuracy: 0.8411\n",
            "Epoch 6: ReduceLROnPlateau reducing learning rate to 0.00010000000474974513.\n",
            "196/196 [==============================] - 33s 170ms/step - loss: 1.1891 - accuracy: 0.8411 - val_loss: 1.1961 - val_accuracy: 0.8424 - lr: 0.0010\n",
            "Epoch 7/60\n",
            "196/196 [==============================] - 34s 174ms/step - loss: 1.0351 - accuracy: 0.8819 - val_loss: 0.9635 - val_accuracy: 0.8928 - lr: 1.0000e-04\n",
            "Epoch 8/60\n",
            "196/196 [==============================] - 35s 176ms/step - loss: 0.9258 - accuracy: 0.8978 - val_loss: 0.9121 - val_accuracy: 0.8980 - lr: 1.0000e-04\n",
            "Epoch 9/60\n",
            "196/196 [==============================] - 35s 176ms/step - loss: 0.8668 - accuracy: 0.9032 - val_loss: 0.8511 - val_accuracy: 0.9036 - lr: 1.0000e-04\n",
            "Epoch 10/60\n",
            "196/196 [==============================] - 35s 177ms/step - loss: 0.8191 - accuracy: 0.9072 - val_loss: 0.8109 - val_accuracy: 0.9056 - lr: 1.0000e-04\n",
            "Epoch 11/60\n",
            "196/196 [==============================] - 33s 170ms/step - loss: 0.7807 - accuracy: 0.9114 - val_loss: 0.7816 - val_accuracy: 0.9065 - lr: 1.0000e-04\n",
            "Epoch 12/60\n",
            "196/196 [==============================] - 35s 176ms/step - loss: 0.7554 - accuracy: 0.9129 - val_loss: 0.7518 - val_accuracy: 0.9134 - lr: 1.0000e-04\n",
            "Epoch 13/60\n",
            "196/196 [==============================] - 33s 170ms/step - loss: 0.7277 - accuracy: 0.9168 - val_loss: 0.7420 - val_accuracy: 0.9074 - lr: 1.0000e-04\n",
            "Epoch 14/60\n",
            "196/196 [==============================] - 35s 177ms/step - loss: 0.7007 - accuracy: 0.9196 - val_loss: 0.7606 - val_accuracy: 0.8979 - lr: 1.0000e-04\n",
            "Epoch 15/60\n",
            "196/196 [==============================] - 35s 178ms/step - loss: 0.6804 - accuracy: 0.9234 - val_loss: 0.7051 - val_accuracy: 0.9135 - lr: 1.0000e-04\n",
            "Epoch 16/60\n",
            "196/196 [==============================] - 34s 173ms/step - loss: 0.6653 - accuracy: 0.9232 - val_loss: 0.6927 - val_accuracy: 0.9137 - lr: 1.0000e-04\n",
            "Epoch 17/60\n",
            "196/196 [==============================] - 34s 171ms/step - loss: 0.6484 - accuracy: 0.9255 - val_loss: 0.6871 - val_accuracy: 0.9121 - lr: 1.0000e-04\n",
            "Epoch 18/60\n",
            "196/196 [==============================] - 34s 172ms/step - loss: 0.6322 - accuracy: 0.9265 - val_loss: 0.6676 - val_accuracy: 0.9157 - lr: 1.0000e-04\n",
            "Epoch 19/60\n",
            "196/196 [==============================] - 34s 173ms/step - loss: 0.6198 - accuracy: 0.9289 - val_loss: 0.6670 - val_accuracy: 0.9159 - lr: 1.0000e-04\n",
            "Epoch 20/60\n",
            "196/196 [==============================] - 36s 182ms/step - loss: 0.6079 - accuracy: 0.9297 - val_loss: 0.6486 - val_accuracy: 0.9147 - lr: 1.0000e-04\n",
            "Epoch 21/60\n",
            "196/196 [==============================] - 35s 177ms/step - loss: 0.5981 - accuracy: 0.9304 - val_loss: 0.6607 - val_accuracy: 0.9107 - lr: 1.0000e-04\n",
            "Epoch 22/60\n",
            "196/196 [==============================] - 35s 177ms/step - loss: 0.5828 - accuracy: 0.9320 - val_loss: 0.6344 - val_accuracy: 0.9157 - lr: 1.0000e-04\n",
            "Epoch 23/60\n",
            "196/196 [==============================] - 34s 174ms/step - loss: 0.5728 - accuracy: 0.9328 - val_loss: 0.6326 - val_accuracy: 0.9137 - lr: 1.0000e-04\n",
            "Epoch 24/60\n",
            "196/196 [==============================] - 34s 171ms/step - loss: 0.5672 - accuracy: 0.9333 - val_loss: 0.6243 - val_accuracy: 0.9187 - lr: 1.0000e-04\n",
            "Epoch 25/60\n",
            "196/196 [==============================] - 35s 177ms/step - loss: 0.5576 - accuracy: 0.9347 - val_loss: 0.6298 - val_accuracy: 0.9144 - lr: 1.0000e-04\n",
            "Epoch 26/60\n",
            "196/196 [==============================] - 33s 170ms/step - loss: 0.5440 - accuracy: 0.9368 - val_loss: 0.6192 - val_accuracy: 0.9179 - lr: 1.0000e-04\n",
            "Epoch 27/60\n",
            "196/196 [==============================] - 35s 177ms/step - loss: 0.5366 - accuracy: 0.9384 - val_loss: 0.6325 - val_accuracy: 0.9156 - lr: 1.0000e-04\n",
            "Epoch 28/60\n",
            "196/196 [==============================] - 35s 178ms/step - loss: 0.5365 - accuracy: 0.9367 - val_loss: 0.6008 - val_accuracy: 0.9209 - lr: 1.0000e-04\n",
            "Epoch 29/60\n",
            "196/196 [==============================] - 35s 177ms/step - loss: 0.5213 - accuracy: 0.9413 - val_loss: 0.5944 - val_accuracy: 0.9209 - lr: 1.0000e-04\n",
            "Epoch 30/60\n",
            "196/196 [==============================] - 37s 188ms/step - loss: 0.5218 - accuracy: 0.9402 - val_loss: 0.5882 - val_accuracy: 0.9196 - lr: 1.0000e-04\n",
            "Epoch 31/60\n",
            "196/196 [==============================] - 34s 171ms/step - loss: 0.5083 - accuracy: 0.9412 - val_loss: 0.6219 - val_accuracy: 0.9161 - lr: 1.0000e-04\n",
            "Epoch 32/60\n",
            "196/196 [==============================] - 34s 172ms/step - loss: 0.5068 - accuracy: 0.9416 - val_loss: 0.5773 - val_accuracy: 0.9249 - lr: 1.0000e-04\n",
            "Epoch 33/60\n",
            "196/196 [==============================] - 34s 171ms/step - loss: 0.5011 - accuracy: 0.9419 - val_loss: 0.6012 - val_accuracy: 0.9183 - lr: 1.0000e-04\n",
            "Epoch 34/60\n",
            "196/196 [==============================] - 34s 172ms/step - loss: 0.4948 - accuracy: 0.9422 - val_loss: 0.5997 - val_accuracy: 0.9172 - lr: 1.0000e-04\n",
            "Epoch 35/60\n",
            "196/196 [==============================] - 34s 171ms/step - loss: 0.4910 - accuracy: 0.9438 - val_loss: 0.5738 - val_accuracy: 0.9208 - lr: 1.0000e-04\n",
            "Epoch 36/60\n",
            "196/196 [==============================] - 34s 174ms/step - loss: 0.4873 - accuracy: 0.9428 - val_loss: 0.5861 - val_accuracy: 0.9183 - lr: 1.0000e-04\n",
            "Epoch 37/60\n",
            "196/196 [==============================] - 35s 178ms/step - loss: 0.4774 - accuracy: 0.9459 - val_loss: 0.5629 - val_accuracy: 0.9235 - lr: 1.0000e-04\n",
            "Epoch 38/60\n",
            "196/196 [==============================] - 34s 171ms/step - loss: 0.4732 - accuracy: 0.9462 - val_loss: 0.5805 - val_accuracy: 0.9156 - lr: 1.0000e-04\n",
            "Epoch 39/60\n",
            "196/196 [==============================] - 34s 171ms/step - loss: 0.4677 - accuracy: 0.9475 - val_loss: 0.5765 - val_accuracy: 0.9208 - lr: 1.0000e-04\n",
            "Epoch 40/60\n",
            "196/196 [==============================] - 34s 174ms/step - loss: 0.4650 - accuracy: 0.9474 - val_loss: 0.5569 - val_accuracy: 0.9220 - lr: 1.0000e-04\n",
            "Epoch 41/60\n",
            "196/196 [==============================] - 34s 172ms/step - loss: 0.4637 - accuracy: 0.9468 - val_loss: 0.5570 - val_accuracy: 0.9239 - lr: 1.0000e-04\n",
            "Epoch 42/60\n",
            "196/196 [==============================] - 36s 182ms/step - loss: 0.4587 - accuracy: 0.9480 - val_loss: 0.5596 - val_accuracy: 0.9216 - lr: 1.0000e-04\n",
            "Epoch 43/60\n",
            "196/196 [==============================] - ETA: 0s - loss: 0.4560 - accuracy: 0.9484\n",
            "Epoch 43: ReduceLROnPlateau reducing learning rate to 1.0000000474974514e-05.\n",
            "196/196 [==============================] - 35s 177ms/step - loss: 0.4560 - accuracy: 0.9484 - val_loss: 0.5655 - val_accuracy: 0.9200 - lr: 1.0000e-04\n",
            "Epoch 44/60\n",
            "196/196 [==============================] - 35s 177ms/step - loss: 0.4310 - accuracy: 0.9559 - val_loss: 0.5482 - val_accuracy: 0.9249 - lr: 1.0000e-05\n",
            "Epoch 45/60\n",
            "196/196 [==============================] - 34s 175ms/step - loss: 0.4231 - accuracy: 0.9572 - val_loss: 0.5367 - val_accuracy: 0.9271 - lr: 1.0000e-05\n",
            "Epoch 46/60\n",
            "196/196 [==============================] - 34s 172ms/step - loss: 0.4181 - accuracy: 0.9583 - val_loss: 0.5356 - val_accuracy: 0.9279 - lr: 1.0000e-05\n",
            "Epoch 47/60\n",
            "196/196 [==============================] - 34s 172ms/step - loss: 0.4128 - accuracy: 0.9600 - val_loss: 0.5327 - val_accuracy: 0.9285 - lr: 1.0000e-05\n",
            "Epoch 48/60\n",
            "196/196 [==============================] - 34s 171ms/step - loss: 0.4100 - accuracy: 0.9610 - val_loss: 0.5294 - val_accuracy: 0.9294 - lr: 1.0000e-05\n",
            "Epoch 49/60\n",
            "196/196 [==============================] - 34s 172ms/step - loss: 0.4035 - accuracy: 0.9617 - val_loss: 0.5314 - val_accuracy: 0.9297 - lr: 1.0000e-05\n",
            "Epoch 50/60\n",
            "196/196 [==============================] - 36s 182ms/step - loss: 0.3990 - accuracy: 0.9631 - val_loss: 0.5323 - val_accuracy: 0.9293 - lr: 1.0000e-05\n",
            "Epoch 51/60\n",
            "196/196 [==============================] - 35s 178ms/step - loss: 0.4010 - accuracy: 0.9627 - val_loss: 0.5284 - val_accuracy: 0.9291 - lr: 1.0000e-05\n",
            "Epoch 52/60\n",
            "196/196 [==============================] - 34s 171ms/step - loss: 0.3990 - accuracy: 0.9618 - val_loss: 0.5268 - val_accuracy: 0.9301 - lr: 1.0000e-05\n",
            "Epoch 53/60\n",
            "196/196 [==============================] - 35s 179ms/step - loss: 0.3950 - accuracy: 0.9633 - val_loss: 0.5244 - val_accuracy: 0.9314 - lr: 1.0000e-05\n",
            "Epoch 54/60\n",
            "196/196 [==============================] - 34s 172ms/step - loss: 0.3926 - accuracy: 0.9642 - val_loss: 0.5286 - val_accuracy: 0.9301 - lr: 1.0000e-05\n",
            "Epoch 55/60\n",
            "196/196 [==============================] - 35s 175ms/step - loss: 0.3931 - accuracy: 0.9631 - val_loss: 0.5178 - val_accuracy: 0.9301 - lr: 1.0000e-05\n",
            "Epoch 56/60\n",
            "196/196 [==============================] - 34s 172ms/step - loss: 0.3879 - accuracy: 0.9642 - val_loss: 0.5209 - val_accuracy: 0.9301 - lr: 1.0000e-05\n",
            "Epoch 57/60\n",
            "196/196 [==============================] - 34s 173ms/step - loss: 0.3839 - accuracy: 0.9649 - val_loss: 0.5244 - val_accuracy: 0.9298 - lr: 1.0000e-05\n",
            "Epoch 58/60\n",
            "196/196 [==============================] - ETA: 0s - loss: 0.3844 - accuracy: 0.9651\n",
            "Epoch 58: ReduceLROnPlateau reducing learning rate to 1.0000000656873453e-06.\n",
            "196/196 [==============================] - 34s 172ms/step - loss: 0.3844 - accuracy: 0.9651 - val_loss: 0.5234 - val_accuracy: 0.9286 - lr: 1.0000e-05\n",
            "Epoch 59/60\n",
            "196/196 [==============================] - 35s 180ms/step - loss: 0.3801 - accuracy: 0.9661 - val_loss: 0.5241 - val_accuracy: 0.9295 - lr: 1.0000e-06\n",
            "Epoch 60/60\n",
            "196/196 [==============================] - 35s 177ms/step - loss: 0.3846 - accuracy: 0.9649 - val_loss: 0.5237 - val_accuracy: 0.9298 - lr: 1.0000e-06\n"
          ]
        }
      ],
      "source": [
        "hist = []\n",
        "for model in models:\n",
        "  model.load_weights('/content/drive/MyDrive/Colab Notebooks/DeepLearningImplementation/Deep-Learning/cifar10vgg.h5')\n",
        "  model.compile(optimizer='Adam', \n",
        "                loss='categorical_crossentropy', metrics=['accuracy'])\n",
        "\n",
        "\n",
        "  from tensorflow.keras.callbacks import EarlyStopping, ReduceLROnPlateau\n",
        "  learning_rate_reduction = ReduceLROnPlateau(monitor='val_loss', \n",
        "                                              patience=3, \n",
        "                                              verbose=1, \n",
        "                                              factor=0.1, \n",
        "                                              min_lr=0.000000001)\n",
        "\n",
        "  hist.append(model.fit(datagen.flow(train_images, train_labels, batch_size=256), epochs=60,\n",
        "            validation_data=(test_images, test_labels),callbacks = [learning_rate_reduction]))"
      ]
    },
    {
      "cell_type": "markdown",
      "metadata": {
        "id": "4cXt3vqd9dJa"
      },
      "source": []
    },
    {
      "cell_type": "markdown",
      "metadata": {
        "id": "-CujS3lCl5fP"
      },
      "source": [
        "# Test"
      ]
    },
    {
      "cell_type": "code",
      "execution_count": 22,
      "metadata": {
        "colab": {
          "base_uri": "https://localhost:8080/",
          "height": 269
        },
        "id": "vqmeKQCEM8lZ",
        "outputId": "cd50e2e3-6d73-4a27-ffc7-161d5f5a14a6"
      },
      "outputs": [
        {
          "output_type": "display_data",
          "data": {
            "text/plain": [
              "<Figure size 432x288 with 2 Axes>"
            ],
            "image/png": "[encoded data removed]"
          },
          "metadata": {
            "needs_background": "light"
          }
        }
      ],
      "source": [
        "fig, loss_ax = plt.subplots()\n",
        "acc_ax = loss_ax.twinx()\n",
        "\n",
        "\n",
        "acc_ax.plot(hist[0].history['accuracy'], 'b', label='train acc')\n",
        "acc_ax.plot(hist[0].history['val_accuracy'], 'g', label='val acc')\n",
        "acc_ax.set_ylabel('accuracy')\n",
        "acc_ax.legend(loc='upper left')\n",
        "\n",
        "plt.show()"
      ]
    },
    {
      "cell_type": "code",
      "execution_count": 29,
      "metadata": {
        "colab": {
          "base_uri": "https://localhost:8080/"
        },
        "id": "Kc35S35RHOG3",
        "outputId": "43fd427d-f50b-4140-f0b6-e86e73a70689"
      },
      "outputs": [
        {
          "output_type": "stream",
          "name": "stdout",
          "text": [
            "313/313 [==============================] - 3s 8ms/step\n",
            "top-1 error:  0.0702\n",
            "top-5 error:  0.0014\n"
          ]
        }
      ],
      "source": [
        "outputs = models[0].predict(test_images)\n",
        "\n",
        "\n",
        "e1 = tf.keras.metrics.categorical_accuracy(\n",
        "    test_labels, outputs\n",
        ")\n",
        "\n",
        "e2 = tf.keras.metrics.top_k_categorical_accuracy(\n",
        "    test_labels, outputs, k=5\n",
        ")\n",
        "\n",
        "print(\"top-1 error: \", (np.count_nonzero(e1 == 0) / 10000))\n",
        "print(\"top-5 error: \", (np.count_nonzero(e2 == 0) / 10000))"
      ]
    }
  ],
  "metadata": {
    "accelerator": "GPU",
    "colab": {
      "provenance": [],
      "include_colab_link": true
    },
    "gpuClass": "standard",
    "kernelspec": {
      "display_name": "Python 3",
      "name": "python3"
    },
    "language_info": {
      "name": "python"
    }
  },
  "nbformat": 4,
  "nbformat_minor": 0
}